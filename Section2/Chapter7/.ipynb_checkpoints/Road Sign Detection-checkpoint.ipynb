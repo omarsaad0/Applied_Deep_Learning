{
 "cells": [
  {
   "cell_type": "markdown",
   "id": "d4b2ed84-c073-4161-9ea7-824c79dcc0c9",
   "metadata": {},
   "source": [
    "<font size=\"5\"> Traffig Road Sign Detection (GERMAN dataset) https://drive.google.com/drive/folders/1I1ZyNzJraPi4mqyztONCxfAPOq7M_9Bk (Omar Saad)  </font>"
   ]
  },
  {
   "cell_type": "markdown",
   "id": "5a9bdc77-ad26-4053-9257-811e02f6fb4d",
   "metadata": {},
   "source": [
    "<font size=\"4\"> Loading the Dataset  </font>"
   ]
  },
  {
   "cell_type": "code",
   "execution_count": 9,
   "id": "d2c05c9b-ed08-4d29-99c3-0d92c08c87ac",
   "metadata": {},
   "outputs": [],
   "source": [
    "import warnings\n",
    "warnings.filterwarnings(\"ignore\")\n",
    "import pickle\n",
    "import pandas as pd\n",
    "import numpy as np \n",
    "import random\n",
    "import matplotlib.pyplot as plt"
   ]
  },
  {
   "cell_type": "code",
   "execution_count": 4,
   "id": "9353906f-2dd6-4a50-a1cc-5ba477dffb34",
   "metadata": {},
   "outputs": [],
   "source": [
    "with open(\"train.p\", mode='rb') as training_data:\n",
    "    train = pickle.load(training_data)\n",
    "\n",
    "with open(\"test.p\", mode='rb') as testing_data:\n",
    "    test = pickle.load(testing_data)\n",
    "    \n",
    "with open(\"valid.p\", mode='rb') as validation_data:\n",
    "    valid = pickle.load(validation_data)"
   ]
  },
  {
   "cell_type": "code",
   "execution_count": 5,
   "id": "e97e97dc-1460-47f7-ab79-2f5b402378d4",
   "metadata": {},
   "outputs": [],
   "source": [
    "x_train, y_train = train['features'], train['labels']\n",
    "x_validation, y_validation = valid['features'], valid['labels']\n",
    "x_testing, y_testing = test['features'], test['labels']"
   ]
  },
  {
   "cell_type": "code",
   "execution_count": 29,
   "id": "b0daa4b3-d22f-4056-8ca7-e978155b226c",
   "metadata": {},
   "outputs": [
    {
     "data": {
      "text/plain": [
       "(34799, 32, 32, 3)"
      ]
     },
     "execution_count": 29,
     "metadata": {},
     "output_type": "execute_result"
    }
   ],
   "source": [
    "x_train.shape\n"
   ]
  },
  {
   "cell_type": "code",
   "execution_count": 16,
   "id": "0cbf1de5-aed7-4171-aafc-3dda89001a31",
   "metadata": {},
   "outputs": [
    {
     "data": {
      "text/plain": [
       "36"
      ]
     },
     "execution_count": 16,
     "metadata": {},
     "output_type": "execute_result"
    },
    {
     "data": {
      "image/png": "[encoded data removed]",
      "text/plain": [
       "<Figure size 432x288 with 1 Axes>"
      ]
     },
     "metadata": {
      "needs_background": "light"
     },
     "output_type": "display_data"
    }
   ],
   "source": [
    "i = 1001\n",
    "plt.imshow(x_train[i])\n",
    "y_train[i]"
   ]
  },
  {
   "cell_type": "markdown",
   "id": "8ce34fe9-ad59-40fc-bc87-3a7c57d33155",
   "metadata": {},
   "source": [
    "<font size=\"4\"> Data Preparation  </font>"
   ]
  },
  {
   "cell_type": "code",
   "execution_count": 18,
   "id": "9247b49a-35cf-4f08-b399-36e2b358f703",
   "metadata": {},
   "outputs": [],
   "source": [
    "from sklearn.utils import shuffle"
   ]
  },
  {
   "cell_type": "code",
   "execution_count": 19,
   "id": "c2060a02-8414-42b1-ae12-01997f5367de",
   "metadata": {},
   "outputs": [],
   "source": [
    "x_train, y_train = shuffle(x_train,y_train)"
   ]
  },
  {
   "cell_type": "code",
   "execution_count": 21,
   "id": "a413e502-4a4f-49ec-b117-fabff5a4196d",
   "metadata": {},
   "outputs": [],
   "source": [
    "x_train_gray = np.sum(x_train/3, axis=3, keepdims=True)\n",
    "x_validation_gray = np.sum(x_validation/3, axis=3, keepdims=True)\n",
    "x_test_gray = np.sum(x_testing/3, axis=3, keepdims=True)"
   ]
  },
  {
   "cell_type": "code",
   "execution_count": 22,
   "id": "130af192-e0ff-416f-abba-b52796731456",
   "metadata": {},
   "outputs": [],
   "source": [
    "x_train_gray_norm = (x_train_gray-128)/128\n",
    "x_test_gray_norm = (x_test_gray-128)/128\n",
    "x_validation_gray_norm = (x_validation_gray-128)/128"
   ]
  },
  {
   "cell_type": "code",
   "execution_count": 26,
   "id": "cccadfa3-9492-4b50-9617-0f20a2a8de96",
   "metadata": {},
   "outputs": [
    {
     "data": {
      "text/plain": [
       "<matplotlib.image.AxesImage at 0x1ba1886e520>"
      ]
     },
     "execution_count": 26,
     "metadata": {},
     "output_type": "execute_result"
    },
    {
     "data": {
      "image/png": "[encoded data removed]",
      "text/plain": [
       "<Figure size 432x288 with 1 Axes>"
      ]
     },
     "metadata": {
      "needs_background": "light"
     },
     "output_type": "display_data"
    },
    {
     "data": {
      "image/png": "[encoded data removed]",
      "text/plain": [
       "<Figure size 432x288 with 1 Axes>"
      ]
     },
     "metadata": {
      "needs_background": "light"
     },
     "output_type": "display_data"
    }
   ],
   "source": [
    "i=610\n",
    "plt.imshow(x_train_gray[i].squeeze(), cmap='gray')\n",
    "plt.figure()\n",
    "plt.imshow(x_train_gray[i])"
   ]
  },
  {
   "cell_type": "markdown",
   "id": "61a5e847-fc08-40a5-a582-b61dc1079562",
   "metadata": {},
   "source": [
    "<font size=\"4\"> Model Training </font>"
   ]
  },
  {
   "cell_type": "code",
   "execution_count": 27,
   "id": "a6bfae48-b763-43ca-81c3-670d8998db74",
   "metadata": {},
   "outputs": [],
   "source": [
    "import tensorflow as tf\n",
    "from tensorflow import keras\n",
    "from tensorflow.keras import layers\n",
    "from subprocess import check_output\n",
    "from sklearn.model_selection import train_test_split"
   ]
  },
  {
   "cell_type": "code",
   "execution_count": 32,
   "id": "1ce26700-64d7-4d9d-a851-bc7028cc5f92",
   "metadata": {},
   "outputs": [],
   "source": [
    "img_rows = x_train[0].shape[0] #rows of the first image \n",
    "img_cols = x_train[0].shape[1] #columns of the first image \n",
    "image_shape = (img_rows, img_cols, 1)"
   ]
  },
  {
   "cell_type": "code",
   "execution_count": 36,
   "id": "a54372dc-8b16-4bc1-8f07-2dcb63e911c4",
   "metadata": {},
   "outputs": [],
   "source": [
    "cnn_model = tf.keras.Sequential()\n"
   ]
  },
  {
   "cell_type": "code",
   "execution_count": 39,
   "id": "ef9df858-6d9a-4710-97d1-405473792680",
   "metadata": {},
   "outputs": [],
   "source": [
    "cnn_model.add(tf.keras.layers.Conv2D(32,3,3,input_shape=image_shape, activation='relu'))\n",
    "cnn_model.add(tf.keras.layers.Conv2D(64,(3,3),input_shape=image_shape, activation='relu'))\n",
    "cnn_model.add(tf.keras.layers.MaxPooling2D(pool_size=(2,2)))\n",
    "cnn_model.add(tf.keras.layers.Dropout(0.25))\n",
    "cnn_model.add(tf.keras.layers.Flatten())\n",
    "cnn_model.add(tf.keras.layers.Dense(128, activation='relu'))\n",
    "cnn_model.add(tf.keras.layers.Dropout(0.5))\n",
    "cnn_model.add(tf.keras.layers.Dense(43, activation='sigmoid'))"
   ]
  },
  {
   "cell_type": "code",
   "execution_count": 43,
   "id": "3cd909b5-8940-43f1-8985-0e31c475d641",
   "metadata": {},
   "outputs": [],
   "source": [
    "cnn_model.compile(loss='sparse_categorical_crossentropy', optimizer=tf.keras.optimizers.Adam(0.001, beta_1=0.9, beta_2=0.999, epsilon=1e-07, amsgrad=False), metrics=['accuracy'])"
   ]
  },
  {
   "cell_type": "code",
   "execution_count": 44,
   "id": "83b86508-b889-4128-9c98-00141699dfd2",
   "metadata": {},
   "outputs": [
    {
     "name": "stdout",
     "output_type": "stream",
     "text": [
      "Epoch 1/50\n",
      "70/70 [==============================] - 5s 59ms/step - loss: 3.4906 - accuracy: 0.0886 - val_loss: 2.8163 - val_accuracy: 0.2927\n",
      "Epoch 2/50\n",
      "70/70 [==============================] - 4s 51ms/step - loss: 2.4614 - accuracy: 0.3486 - val_loss: 1.5999 - val_accuracy: 0.5633\n",
      "Epoch 3/50\n",
      "70/70 [==============================] - 4s 52ms/step - loss: 1.5420 - accuracy: 0.5529 - val_loss: 1.0388 - val_accuracy: 0.7215\n",
      "Epoch 4/50\n",
      "70/70 [==============================] - 4s 52ms/step - loss: 1.1097 - accuracy: 0.6728 - val_loss: 0.8191 - val_accuracy: 0.7828\n",
      "Epoch 5/50\n",
      "70/70 [==============================] - 4s 52ms/step - loss: 0.8916 - accuracy: 0.7352 - val_loss: 0.6575 - val_accuracy: 0.8322\n",
      "Epoch 6/50\n",
      "70/70 [==============================] - 4s 52ms/step - loss: 0.7287 - accuracy: 0.7814 - val_loss: 0.5482 - val_accuracy: 0.8676\n",
      "Epoch 7/50\n",
      "70/70 [==============================] - 4s 53ms/step - loss: 0.6306 - accuracy: 0.8116 - val_loss: 0.4893 - val_accuracy: 0.8814\n",
      "Epoch 8/50\n",
      "70/70 [==============================] - 4s 52ms/step - loss: 0.5506 - accuracy: 0.8346 - val_loss: 0.4529 - val_accuracy: 0.8805\n",
      "Epoch 9/50\n",
      "70/70 [==============================] - 4s 52ms/step - loss: 0.4936 - accuracy: 0.8522 - val_loss: 0.3927 - val_accuracy: 0.8961\n",
      "Epoch 10/50\n",
      "70/70 [==============================] - 4s 53ms/step - loss: 0.4383 - accuracy: 0.8683 - val_loss: 0.3734 - val_accuracy: 0.9000\n",
      "Epoch 11/50\n",
      "70/70 [==============================] - 4s 53ms/step - loss: 0.4119 - accuracy: 0.8752 - val_loss: 0.3568 - val_accuracy: 0.9057\n",
      "Epoch 12/50\n",
      "70/70 [==============================] - 4s 53ms/step - loss: 0.3788 - accuracy: 0.8852 - val_loss: 0.3476 - val_accuracy: 0.9091\n",
      "Epoch 13/50\n",
      "70/70 [==============================] - 4s 53ms/step - loss: 0.3589 - accuracy: 0.8893 - val_loss: 0.3005 - val_accuracy: 0.9218\n",
      "Epoch 14/50\n",
      "70/70 [==============================] - 4s 53ms/step - loss: 0.3278 - accuracy: 0.9013 - val_loss: 0.2976 - val_accuracy: 0.9152\n",
      "Epoch 15/50\n",
      "70/70 [==============================] - 4s 53ms/step - loss: 0.3159 - accuracy: 0.9022 - val_loss: 0.2845 - val_accuracy: 0.9249\n",
      "Epoch 16/50\n",
      "70/70 [==============================] - 4s 53ms/step - loss: 0.2776 - accuracy: 0.9182 - val_loss: 0.2835 - val_accuracy: 0.9213\n",
      "Epoch 17/50\n",
      "70/70 [==============================] - 4s 53ms/step - loss: 0.2756 - accuracy: 0.9162 - val_loss: 0.2773 - val_accuracy: 0.9227\n",
      "Epoch 18/50\n",
      "70/70 [==============================] - 4s 53ms/step - loss: 0.2644 - accuracy: 0.9206 - val_loss: 0.2727 - val_accuracy: 0.9236\n",
      "Epoch 19/50\n",
      "70/70 [==============================] - 4s 53ms/step - loss: 0.2411 - accuracy: 0.9304 - val_loss: 0.2576 - val_accuracy: 0.9306\n",
      "Epoch 20/50\n",
      "70/70 [==============================] - 4s 54ms/step - loss: 0.2333 - accuracy: 0.9301 - val_loss: 0.2492 - val_accuracy: 0.9288\n",
      "Epoch 21/50\n",
      "70/70 [==============================] - 4s 53ms/step - loss: 0.2207 - accuracy: 0.9310 - val_loss: 0.2626 - val_accuracy: 0.9288\n",
      "Epoch 22/50\n",
      "70/70 [==============================] - 4s 54ms/step - loss: 0.2139 - accuracy: 0.9343 - val_loss: 0.2518 - val_accuracy: 0.9302\n",
      "Epoch 23/50\n",
      "70/70 [==============================] - 4s 54ms/step - loss: 0.2011 - accuracy: 0.9371 - val_loss: 0.2373 - val_accuracy: 0.9338\n",
      "Epoch 24/50\n",
      "70/70 [==============================] - 4s 54ms/step - loss: 0.1957 - accuracy: 0.9407 - val_loss: 0.2261 - val_accuracy: 0.9367\n",
      "Epoch 25/50\n",
      "70/70 [==============================] - 4s 54ms/step - loss: 0.1863 - accuracy: 0.9431 - val_loss: 0.2332 - val_accuracy: 0.9358\n",
      "Epoch 26/50\n",
      "70/70 [==============================] - 4s 53ms/step - loss: 0.1798 - accuracy: 0.9450 - val_loss: 0.2332 - val_accuracy: 0.9356\n",
      "Epoch 27/50\n",
      "70/70 [==============================] - 4s 54ms/step - loss: 0.1722 - accuracy: 0.9461 - val_loss: 0.2444 - val_accuracy: 0.9281\n",
      "Epoch 28/50\n",
      "70/70 [==============================] - 4s 54ms/step - loss: 0.1667 - accuracy: 0.9486 - val_loss: 0.2057 - val_accuracy: 0.9417\n",
      "Epoch 29/50\n",
      "70/70 [==============================] - 4s 53ms/step - loss: 0.1667 - accuracy: 0.9496 - val_loss: 0.2435 - val_accuracy: 0.9331\n",
      "Epoch 30/50\n",
      "70/70 [==============================] - 4s 53ms/step - loss: 0.1550 - accuracy: 0.9523 - val_loss: 0.2434 - val_accuracy: 0.9338\n",
      "Epoch 31/50\n",
      "70/70 [==============================] - 4s 54ms/step - loss: 0.1576 - accuracy: 0.9521 - val_loss: 0.2413 - val_accuracy: 0.9345\n",
      "Epoch 32/50\n",
      "70/70 [==============================] - 4s 53ms/step - loss: 0.1502 - accuracy: 0.9534 - val_loss: 0.2233 - val_accuracy: 0.9410\n",
      "Epoch 33/50\n",
      "70/70 [==============================] - 4s 53ms/step - loss: 0.1503 - accuracy: 0.9548 - val_loss: 0.2015 - val_accuracy: 0.9438\n",
      "Epoch 34/50\n",
      "70/70 [==============================] - 4s 54ms/step - loss: 0.1383 - accuracy: 0.9567 - val_loss: 0.2341 - val_accuracy: 0.9385\n",
      "Epoch 35/50\n",
      "70/70 [==============================] - 4s 54ms/step - loss: 0.1462 - accuracy: 0.9571 - val_loss: 0.2157 - val_accuracy: 0.9431\n",
      "Epoch 36/50\n",
      "70/70 [==============================] - 4s 54ms/step - loss: 0.1450 - accuracy: 0.9560 - val_loss: 0.2126 - val_accuracy: 0.9356\n",
      "Epoch 37/50\n",
      "70/70 [==============================] - 4s 53ms/step - loss: 0.1316 - accuracy: 0.9596 - val_loss: 0.2463 - val_accuracy: 0.9293\n",
      "Epoch 38/50\n",
      "70/70 [==============================] - 4s 54ms/step - loss: 0.1254 - accuracy: 0.9592 - val_loss: 0.2315 - val_accuracy: 0.9363\n",
      "Epoch 39/50\n",
      "70/70 [==============================] - 4s 54ms/step - loss: 0.1308 - accuracy: 0.9587 - val_loss: 0.2006 - val_accuracy: 0.9456\n",
      "Epoch 40/50\n",
      "70/70 [==============================] - 4s 54ms/step - loss: 0.1271 - accuracy: 0.9605 - val_loss: 0.2084 - val_accuracy: 0.9408\n",
      "Epoch 41/50\n",
      "70/70 [==============================] - 4s 53ms/step - loss: 0.1224 - accuracy: 0.9615 - val_loss: 0.2299 - val_accuracy: 0.9401\n",
      "Epoch 42/50\n",
      "70/70 [==============================] - 4s 54ms/step - loss: 0.1175 - accuracy: 0.9639 - val_loss: 0.2087 - val_accuracy: 0.9460\n",
      "Epoch 43/50\n",
      "70/70 [==============================] - 4s 54ms/step - loss: 0.1160 - accuracy: 0.9652 - val_loss: 0.2055 - val_accuracy: 0.9465\n",
      "Epoch 44/50\n",
      "70/70 [==============================] - 4s 54ms/step - loss: 0.1078 - accuracy: 0.9660 - val_loss: 0.1987 - val_accuracy: 0.9474\n",
      "Epoch 45/50\n",
      "70/70 [==============================] - 4s 54ms/step - loss: 0.1105 - accuracy: 0.9640 - val_loss: 0.1934 - val_accuracy: 0.9467\n",
      "Epoch 46/50\n",
      "70/70 [==============================] - 4s 54ms/step - loss: 0.1073 - accuracy: 0.9667 - val_loss: 0.2046 - val_accuracy: 0.9463\n",
      "Epoch 47/50\n",
      "70/70 [==============================] - 4s 54ms/step - loss: 0.1105 - accuracy: 0.9659 - val_loss: 0.2096 - val_accuracy: 0.9440\n",
      "Epoch 48/50\n",
      "70/70 [==============================] - 4s 54ms/step - loss: 0.0994 - accuracy: 0.9676 - val_loss: 0.2039 - val_accuracy: 0.9474\n",
      "Epoch 49/50\n",
      "70/70 [==============================] - 4s 54ms/step - loss: 0.1057 - accuracy: 0.9670 - val_loss: 0.2205 - val_accuracy: 0.9401\n",
      "Epoch 50/50\n",
      "70/70 [==============================] - 4s 54ms/step - loss: 0.1007 - accuracy: 0.9691 - val_loss: 0.2124 - val_accuracy: 0.9431\n"
     ]
    }
   ],
   "source": [
    "history = cnn_model.fit(x_train_gray_norm, y_train, batch_size=500, epochs=50, verbose=1, validation_data=(x_validation_gray_norm, y_validation))"
   ]
  },
  {
   "cell_type": "markdown",
   "id": "fdc43253-12c6-4f0e-85dc-0fc457bd7526",
   "metadata": {},
   "source": [
    "<font size=\"4\"> Model Accuracy <font>"
   ]
  },
  {
   "cell_type": "code",
   "execution_count": 55,
   "id": "9394ee6e-078c-4b3b-a297-626d02f257f8",
   "metadata": {},
   "outputs": [
    {
     "name": "stdout",
     "output_type": "stream",
     "text": [
      "Test Accuracy: 0.9319\n"
     ]
    }
   ],
   "source": [
    "score = cnn_model.evaluate(x_test_gray_norm, y_testing, verbose=0)\n",
    "print('Test Accuracy: {:.4f}'.format(score[1]))"
   ]
  },
  {
   "cell_type": "code",
   "execution_count": 48,
   "id": "b84a7301-8f59-4360-b5c0-310301a98800",
   "metadata": {},
   "outputs": [
    {
     "data": {
      "image/png": "[encoded data removed]",
      "text/plain": [
       "<Figure size 432x288 with 1 Axes>"
      ]
     },
     "metadata": {
      "needs_background": "light"
     },
     "output_type": "display_data"
    }
   ],
   "source": [
    "history_dict = history.history\n",
    "loss_values = history_dict['loss']\n",
    "val_loss_values = history_dict['val_loss']\n",
    "epochs = range(1, len(loss_values)+1)\n",
    "line1 = plt.plot(epochs, val_loss_values, label='Validation/Test Loss')\n",
    "line2 = plt.plot(epochs, loss_values, label='Trainig Loss')\n",
    "plt.setp(line1, linewidth=2.0, marker='+', markersize='15')\n",
    "plt.setp(line2, linewidth=2.0, marker='2', markersize='15')\n",
    "plt.xlabel('Epochs')\n",
    "plt.ylabel('Loss')\n",
    "plt.grid(True)\n",
    "plt.legend()\n",
    "plt.show()"
   ]
  },
  {
   "cell_type": "code",
   "execution_count": 49,
   "id": "e0f8f1b2-b9e5-4871-b53b-d46708cdd2f0",
   "metadata": {},
   "outputs": [
    {
     "data": {
      "image/png": "[encoded data removed]",
      "text/plain": [
       "<Figure size 432x288 with 1 Axes>"
      ]
     },
     "metadata": {
      "needs_background": "light"
     },
     "output_type": "display_data"
    }
   ],
   "source": [
    "history_dict = history.history\n",
    "acc_values = history_dict['accuracy']\n",
    "val_acc_values = history_dict['val_accuracy']\n",
    "epochs = range(1, len(acc_values)+1)\n",
    "line1 = plt.plot(epochs, val_acc_values, label='Validation/Test Accuracy')\n",
    "line2 = plt.plot(epochs, acc_values, label='Trainig Accuracy')\n",
    "plt.setp(line1, linewidth=2.0, marker='+', markersize='15')\n",
    "plt.setp(line2, linewidth=2.0, marker='2', markersize='15')\n",
    "plt.xlabel('Epochs')\n",
    "plt.ylabel('Accuracy')\n",
    "plt.grid(True)\n",
    "plt.legend()\n",
    "plt.show()"
   ]
  },
  {
   "cell_type": "code",
   "execution_count": 56,
   "id": "2132cb69-cb3b-466c-93d7-69c14ea7675f",
   "metadata": {},
   "outputs": [],
   "source": [
    "cnn_model.save('traffic_sign.h5')"
   ]
  },
  {
   "cell_type": "code",
   "execution_count": 65,
   "id": "a9c45676-9885-43e8-b89c-4f5b6ea8141c",
   "metadata": {},
   "outputs": [],
   "source": [
    "predictions = cnn_model.predict_classes(x_test_gray_norm)"
   ]
  },
  {
   "cell_type": "code",
   "execution_count": 59,
   "id": "3d08066c-110a-436b-b657-8aadc1468135",
   "metadata": {},
   "outputs": [
    {
     "ename": "NameError",
     "evalue": "name 'classification_report' is not defined",
     "output_type": "error",
     "traceback": [
      "\u001b[1;31m---------------------------------------------------------------------------\u001b[0m",
      "\u001b[1;31mNameError\u001b[0m                                 Traceback (most recent call last)",
      "\u001b[1;32mC:\\Users\\OMARSA~1\\AppData\\Local\\Temp/ipykernel_11972/4086614537.py\u001b[0m in \u001b[0;36m<module>\u001b[1;34m\u001b[0m\n\u001b[1;32m----> 1\u001b[1;33m \u001b[0mprint\u001b[0m\u001b[1;33m(\u001b[0m\u001b[0mclassification_report\u001b[0m\u001b[1;33m(\u001b[0m\u001b[0my_test\u001b[0m\u001b[1;33m,\u001b[0m \u001b[0mpredictions\u001b[0m\u001b[1;33m)\u001b[0m\u001b[1;33m)\u001b[0m\u001b[1;33m\u001b[0m\u001b[1;33m\u001b[0m\u001b[0m\n\u001b[0m",
      "\u001b[1;31mNameError\u001b[0m: name 'classification_report' is not defined"
     ]
    }
   ],
   "source": []
  },
  {
   "cell_type": "code",
   "execution_count": 60,
   "id": "23eeb601-058b-4051-8270-f2ea5320c969",
   "metadata": {},
   "outputs": [],
   "source": [
    "from sklearn.metrics import classification_report"
   ]
  },
  {
   "cell_type": "code",
   "execution_count": 66,
   "id": "150b3ab0-3acd-4811-aecc-5a2af574169f",
   "metadata": {},
   "outputs": [
    {
     "name": "stdout",
     "output_type": "stream",
     "text": [
      "              precision    recall  f1-score   support\n",
      "\n",
      "           0       0.23      0.85      0.36        60\n",
      "           1       0.60      0.79      0.68       720\n",
      "           2       0.78      0.70      0.74       750\n",
      "           3       0.69      0.89      0.78       450\n",
      "           4       0.97      0.82      0.89       660\n",
      "           5       0.78      0.53      0.63       630\n",
      "           6       1.00      0.79      0.88       150\n",
      "           7       0.70      0.70      0.70       450\n",
      "           8       0.84      0.81      0.82       450\n",
      "           9       0.63      0.97      0.76       480\n",
      "          10       0.97      0.88      0.93       660\n",
      "          11       0.77      0.95      0.85       420\n",
      "          12       0.95      0.98      0.96       690\n",
      "          13       0.99      0.97      0.98       720\n",
      "          14       0.98      0.91      0.95       270\n",
      "          15       0.95      0.99      0.97       210\n",
      "          16       0.97      0.43      0.60       150\n",
      "          17       1.00      0.60      0.75       360\n",
      "          18       0.75      0.82      0.79       390\n",
      "          19       0.46      1.00      0.63        60\n",
      "          20       0.74      0.87      0.80        90\n",
      "          21       0.65      0.37      0.47        90\n",
      "          22       0.79      0.90      0.84       120\n",
      "          23       0.58      0.46      0.51       150\n",
      "          24       0.83      0.61      0.71        90\n",
      "          25       0.91      0.84      0.88       480\n",
      "          26       0.66      0.47      0.55       180\n",
      "          27       0.76      0.27      0.40        60\n",
      "          28       0.94      0.96      0.95       150\n",
      "          29       0.83      0.77      0.80        90\n",
      "          30       0.88      0.79      0.83       150\n",
      "          31       0.92      0.90      0.91       270\n",
      "          32       0.71      1.00      0.83        60\n",
      "          33       0.96      0.99      0.97       210\n",
      "          34       0.95      0.99      0.97       120\n",
      "          35       0.99      0.92      0.95       390\n",
      "          36       0.94      0.94      0.94       120\n",
      "          37       0.85      0.97      0.91        60\n",
      "          38       0.95      0.96      0.96       690\n",
      "          39       0.96      0.91      0.94        90\n",
      "          40       0.99      0.82      0.90        90\n",
      "          41       0.00      0.00      0.00        60\n",
      "          42       0.99      0.88      0.93        90\n",
      "\n",
      "    accuracy                           0.82     12630\n",
      "   macro avg       0.81      0.79      0.78     12630\n",
      "weighted avg       0.84      0.82      0.82     12630\n",
      "\n"
     ]
    }
   ],
   "source": [
    "print(classification_report(y_testing, predictions))"
   ]
  },
  {
   "cell_type": "code",
   "execution_count": null,
   "id": "bf616b1d-8b04-456d-9475-7458b6807a63",
   "metadata": {},
   "outputs": [],
   "source": []
  }
 ],
 "metadata": {
  "kernelspec": {
   "display_name": "Python 3 (ipykernel)",
   "language": "python",
   "name": "python3"
  },
  "language_info": {
   "codemirror_mode": {
    "name": "ipython",
    "version": 3
   },
   "file_extension": ".py",
   "mimetype": "text/x-python",
   "name": "python",
   "nbconvert_exporter": "python",
   "pygments_lexer": "ipython3",
   "version": "3.8.0"
  }
 },
 "nbformat": 4,
 "nbformat_minor": 5
}
