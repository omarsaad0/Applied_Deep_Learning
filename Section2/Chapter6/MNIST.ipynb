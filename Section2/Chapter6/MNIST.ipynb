{
 "cells": [
  {
   "cell_type": "code",
   "execution_count": 1,
   "id": "2210fac0-086c-4f21-94c5-9cf9524dd38e",
   "metadata": {},
   "outputs": [],
   "source": [
    "import tensorflow as tf"
   ]
  },
  {
   "cell_type": "code",
   "execution_count": 2,
   "id": "79728fef-7bcb-49d2-bafd-0442ad4a409d",
   "metadata": {},
   "outputs": [
    {
     "name": "stdout",
     "output_type": "stream",
     "text": [
      "2.4.0\n"
     ]
    }
   ],
   "source": [
    "print(tf.__version__)"
   ]
  },
  {
   "cell_type": "code",
   "execution_count": 3,
   "id": "2693ae81-0cf4-4c66-a2d7-b729950b4666",
   "metadata": {},
   "outputs": [],
   "source": [
    "from tensorflow import keras"
   ]
  },
  {
   "cell_type": "code",
   "execution_count": 4,
   "id": "482bc11d-d2eb-492a-b25d-7383c774e108",
   "metadata": {},
   "outputs": [],
   "source": [
    "from tensorflow.keras import layers"
   ]
  },
  {
   "cell_type": "markdown",
   "id": "8795887c-dfdc-44dd-8600-78a7dc476503",
   "metadata": {},
   "source": []
  },
  {
   "cell_type": "code",
   "execution_count": 96,
   "id": "9e3d42b2-0dbe-47b1-8c08-5a3888800c48",
   "metadata": {},
   "outputs": [],
   "source": [
    "from tensorflow.keras.datasets import mnist"
   ]
  },
  {
   "cell_type": "code",
   "execution_count": 97,
   "id": "e3f82f71-3a09-4a0e-b3e3-b48a21dd424a",
   "metadata": {},
   "outputs": [],
   "source": [
    "(x_train, y_train), (x_test, y_test) = mnist.load_data()"
   ]
  },
  {
   "cell_type": "code",
   "execution_count": 98,
   "id": "8edcac67-83c0-4306-9eea-a2ddfaffd06c",
   "metadata": {},
   "outputs": [
    {
     "name": "stdout",
     "output_type": "stream",
     "text": [
      "(60000, 28, 28)\n"
     ]
    }
   ],
   "source": [
    "print(x_train.shape)"
   ]
  },
  {
   "cell_type": "code",
   "execution_count": 99,
   "id": "1fa2e41a-a93e-4ad0-8bb4-7c5673a01254",
   "metadata": {},
   "outputs": [
    {
     "name": "stdout",
     "output_type": "stream",
     "text": [
      "(1, 28, 28)\n"
     ]
    }
   ],
   "source": [
    "print(x_train[59999::].shape)"
   ]
  },
  {
   "cell_type": "code",
   "execution_count": 100,
   "id": "94bb7523-49f3-4904-82cf-77a91fbd8afe",
   "metadata": {},
   "outputs": [
    {
     "name": "stdout",
     "output_type": "stream",
     "text": [
      "Initial shape and dimensions of x_train: (60000, 28, 28)\n",
      "Number of samples in our training data: 60000\n",
      "Number of lables in our test data: 10000\n"
     ]
    }
   ],
   "source": [
    "print(\"Initial shape and dimensions of x_train:\", str(x_train.shape))\n",
    "print(\"Number of samples in our training data:\", str(len(x_train)))\n",
    "print(\"Number of lables in our test data:\", str(len(x_test)))"
   ]
  },
  {
   "cell_type": "code",
   "execution_count": 101,
   "id": "b79fbefb-43f7-4e53-baba-57df5f61ab38",
   "metadata": {},
   "outputs": [
    {
     "name": "stdout",
     "output_type": "stream",
     "text": [
      "Number of Samples in Test data: 10000\n",
      "Number of Labels in Test Data: 10000\n"
     ]
    }
   ],
   "source": [
    "print(\"Number of Samples in Test data:\", str(len(x_test)))\n",
    "print(\"Number of Labels in Test Data:\", str(len(y_test)))"
   ]
  },
  {
   "cell_type": "markdown",
   "id": "9d55a959-ea47-454e-9925-df995c7ec1c1",
   "metadata": {},
   "source": [
    "<font size=\"5\">Showing The Data using OpenCV and matplotlib </font>"
   ]
  },
  {
   "cell_type": "code",
   "execution_count": 102,
   "id": "3d6f2ed2-a9e0-4941-b8c5-46f9b389db37",
   "metadata": {},
   "outputs": [],
   "source": [
    "import cv2\n",
    "import numpy as np"
   ]
  },
  {
   "cell_type": "code",
   "execution_count": 103,
   "id": "acfa943b-4876-4cca-979d-1c5576697658",
   "metadata": {},
   "outputs": [],
   "source": [
    "for i in range (0,6):\n",
    "    random_num = np.random.randint(0, len(x_train))\n",
    "    img = x_train[random_num]\n",
    "    window_name = 'Randome Sample #'+str(i)\n",
    "    cv2.imshow(window_name, img)\n",
    "    cv2.waitKey(0)\n",
    "cv2.destroyAllWindows()"
   ]
  },
  {
   "cell_type": "code",
   "execution_count": 104,
   "id": "cfa8d892-5289-4e98-9dbd-cd82db33c7e0",
   "metadata": {},
   "outputs": [],
   "source": [
    "import matplotlib.pyplot as plt"
   ]
  },
  {
   "cell_type": "code",
   "execution_count": 105,
   "id": "3f7b4b24-7ba6-46c0-a8fe-2a81bc75e37d",
   "metadata": {},
   "outputs": [
    {
     "data": {
      "text/plain": [
       "<matplotlib.image.AxesImage at 0x2708970bbb0>"
      ]
     },
     "execution_count": 105,
     "metadata": {},
     "output_type": "execute_result"
    },
    {
     "data": {
      "image/png": "[encoded data removed]",
      "text/plain": [
       "<Figure size 432x288 with 6 Axes>"
      ]
     },
     "metadata": {
      "needs_background": "light"
     },
     "output_type": "display_data"
    }
   ],
   "source": [
    "plt.subplot(334)\n",
    "random_num = np.random.randint(0, len(x_train))\n",
    "plt.imshow(x_train[0], cmap='gray')\n",
    "plt.subplot(335)\n",
    "random_num = np.random.randint(0, len(x_train))\n",
    "plt.imshow(x_train[random_num], cmap='gray')\n",
    "plt.subplot(336)\n",
    "random_num = np.random.randint(0, len(x_train))\n",
    "plt.imshow(x_train[random_num], cmap='gray')\n",
    "plt.subplot(337)\n",
    "random_num = np.random.randint(0, len(x_train))\n",
    "plt.imshow(x_train[random_num], cmap='gray')\n",
    "plt.subplot(338)\n",
    "random_num = np.random.randint(0, len(x_train))\n",
    "plt.imshow(x_train[random_num], cmap='gray')\n",
    "plt.subplot(339)\n",
    "random_num = np.random.randint(0, len(x_train))\n",
    "plt.imshow(x_train[random_num], cmap='gray')"
   ]
  },
  {
   "cell_type": "markdown",
   "id": "97b86ecd-9982-4a54-ac57-d417e972fc85",
   "metadata": {},
   "source": [
    "<font size=\"5\">Reshaping The Data to be (Number of samples, rows, columns, depth) </font>"
   ]
  },
  {
   "cell_type": "code",
   "execution_count": 106,
   "id": "f06bb65b-a0f3-419e-bed6-d6b7d04fd9e4",
   "metadata": {},
   "outputs": [],
   "source": [
    "img_rows = x_train[0].shape[0] #rows of the first image (28x28)\n",
    "img_cols = x_train[0].shape[1] #columns of the first image (28,28)\n",
    "x_train = x_train.reshape(x_train.shape[0], img_rows, img_cols, 1)\n",
    "x_test = x_test.reshape(x_test.shape[0], img_rows, img_cols, 1)\n",
    "input_shape = (img_rows, img_cols, 1)\n",
    "x_train = x_train.astype('float32')\n",
    "x_test = x_test.astype('float32')"
   ]
  },
  {
   "cell_type": "code",
   "execution_count": 107,
   "id": "15564d6f-a099-4302-b46a-4e5bc0d6bec6",
   "metadata": {},
   "outputs": [
    {
     "name": "stdout",
     "output_type": "stream",
     "text": [
      "Initial shape and dimensions of x_train: (60000, 28, 28, 1)\n",
      "Initial shape and dimensions of x_test: (10000, 28, 28, 1)\n"
     ]
    }
   ],
   "source": [
    "print(\"Initial shape and dimensions of x_train:\", str(x_train.shape))\n",
    "print(\"Initial shape and dimensions of x_test:\", str(x_test.shape))"
   ]
  },
  {
   "cell_type": "markdown",
   "id": "fc18f556-e41c-4aa4-8b93-15d8ab5d1f0d",
   "metadata": {},
   "source": [
    "<font size=\"5\">Transformation of Data (Normalization) </font>"
   ]
  },
  {
   "cell_type": "code",
   "execution_count": 108,
   "id": "da969b1b-2dd7-44e9-9f9a-267accd16053",
   "metadata": {},
   "outputs": [],
   "source": [
    "x_train /= 255\n",
    "x_test /= 255"
   ]
  },
  {
   "cell_type": "code",
   "execution_count": 109,
   "id": "92959d70-069d-485b-b883-b3290e7dfe18",
   "metadata": {},
   "outputs": [
    {
     "name": "stdout",
     "output_type": "stream",
     "text": [
      "(60000, 28, 28, 1)\n",
      "(10000, 28, 28, 1)\n"
     ]
    }
   ],
   "source": [
    "print(x_train.shape)\n",
    "print(x_test.shape)"
   ]
  },
  {
   "cell_type": "markdown",
   "id": "c57f111b-e010-4a75-9629-7161165a367f",
   "metadata": {},
   "source": [
    "<font size=\"5\">One-Hot Encoding the Output </font>"
   ]
  },
  {
   "cell_type": "code",
   "execution_count": 110,
   "id": "e03ff1b1-93dc-4f43-9796-b84203c3898b",
   "metadata": {},
   "outputs": [
    {
     "data": {
      "text/plain": [
       "5"
      ]
     },
     "execution_count": 110,
     "metadata": {},
     "output_type": "execute_result"
    }
   ],
   "source": [
    "y_train[0] #we want this to be (0,0,0,0,0,1,0,0,0,0)"
   ]
  },
  {
   "cell_type": "code",
   "execution_count": 111,
   "id": "fd0b7678-2b11-46ee-8ca4-687383eb40ba",
   "metadata": {},
   "outputs": [],
   "source": [
    "from tensorflow.keras.utils import to_categorical"
   ]
  },
  {
   "cell_type": "code",
   "execution_count": 112,
   "id": "3fac62b5-1b32-4a31-b482-2f1e75bf02b2",
   "metadata": {},
   "outputs": [],
   "source": [
    "y_train = to_categorical(y_train)\n",
    "y_test = to_categorical(y_test)"
   ]
  },
  {
   "cell_type": "code",
   "execution_count": 113,
   "id": "e1209d25-ee9c-463d-bfc7-76cdd8e88896",
   "metadata": {},
   "outputs": [
    {
     "name": "stdout",
     "output_type": "stream",
     "text": [
      "Number of Classes:10\n"
     ]
    }
   ],
   "source": [
    "print(\"Number of Classes:\" +str(y_train.shape[1]))"
   ]
  },
  {
   "cell_type": "code",
   "execution_count": 114,
   "id": "42893d6f-04a9-4ec1-b36c-41e33ace0e51",
   "metadata": {},
   "outputs": [],
   "source": [
    "num_classes = y_test.shape[1]\n",
    "num_pixels = x_train.shape[1]*x_train.shape[2]"
   ]
  },
  {
   "cell_type": "code",
   "execution_count": 115,
   "id": "ce780d92-cd1c-416a-bb99-4eec1c89e612",
   "metadata": {},
   "outputs": [
    {
     "data": {
      "text/plain": [
       "10"
      ]
     },
     "execution_count": 115,
     "metadata": {},
     "output_type": "execute_result"
    }
   ],
   "source": [
    "num_classes"
   ]
  },
  {
   "cell_type": "code",
   "execution_count": 116,
   "id": "0bab6896-a736-4d26-9031-65671a2609e8",
   "metadata": {},
   "outputs": [
    {
     "data": {
      "text/plain": [
       "array([0., 0., 0., 0., 0., 1., 0., 0., 0., 0.], dtype=float32)"
      ]
     },
     "execution_count": 116,
     "metadata": {},
     "output_type": "execute_result"
    }
   ],
   "source": [
    "y_train[0]"
   ]
  },
  {
   "cell_type": "markdown",
   "id": "6f866ee0-9f73-4be4-afa1-4fe9445dcc34",
   "metadata": {},
   "source": [
    "<font size=\"5\">Building And Compiling the Model</font>"
   ]
  },
  {
   "cell_type": "code",
   "execution_count": 117,
   "id": "00452445-ffa1-483b-ba9e-2fb9aa5abdd8",
   "metadata": {},
   "outputs": [],
   "source": [
    "from tensorflow.keras import layers"
   ]
  },
  {
   "cell_type": "code",
   "execution_count": 118,
   "id": "67f18562-e548-4e11-a41a-596ebecd7565",
   "metadata": {},
   "outputs": [],
   "source": [
    "model = tf.keras.Sequential()"
   ]
  },
  {
   "cell_type": "code",
   "execution_count": 119,
   "id": "7bbd2252-24bc-4db9-a84a-3e746ad8b6cf",
   "metadata": {},
   "outputs": [],
   "source": [
    "model.add(tf.keras.layers.Conv2D(32, kernel_size=(3,3), activation='relu', input_shape=input_shape))\n",
    "model.add(tf.keras.layers.Conv2D(64, kernel_size=(3,3), activation='relu'))\n",
    "model.add(tf.keras.layers.MaxPooling2D(pool_size=(2,2)))\n",
    "model.add(tf.keras.layers.Dropout(0.25))\n",
    "model.add(tf.keras.layers.Flatten())\n",
    "model.add(tf.keras.layers.Dense(128, activation='relu'))\n",
    "model.add(tf.keras.layers.Dropout(0.5))\n",
    "model.add(tf.keras.layers.Dense(num_classes, activation='softmax'))"
   ]
  },
  {
   "cell_type": "code",
   "execution_count": 124,
   "id": "7138cd2f-7e2a-40fd-8c3f-6b33ae8be3d0",
   "metadata": {},
   "outputs": [],
   "source": [
    "model.compile(loss=\"categorical_crossentropy\", optimizer='SGD', metrics=['accuracy'])"
   ]
  },
  {
   "cell_type": "code",
   "execution_count": 128,
   "id": "a94d142f-ccc1-4859-afa6-1b6a5d9a5ddd",
   "metadata": {},
   "outputs": [
    {
     "name": "stdout",
     "output_type": "stream",
     "text": [
      "Model: \"sequential_7\"\n",
      "_________________________________________________________________\n",
      "Layer (type)                 Output Shape              Param #   \n",
      "=================================================================\n",
      "conv2d_20 (Conv2D)           (None, 26, 26, 32)        320       \n",
      "_________________________________________________________________\n",
      "conv2d_21 (Conv2D)           (None, 24, 24, 64)        18496     \n",
      "_________________________________________________________________\n",
      "max_pooling2d_7 (MaxPooling2 (None, 12, 12, 64)        0         \n",
      "_________________________________________________________________\n",
      "dropout_14 (Dropout)         (None, 12, 12, 64)        0         \n",
      "_________________________________________________________________\n",
      "flatten_7 (Flatten)          (None, 9216)              0         \n",
      "_________________________________________________________________\n",
      "dense_14 (Dense)             (None, 128)               1179776   \n",
      "_________________________________________________________________\n",
      "dropout_15 (Dropout)         (None, 128)               0         \n",
      "_________________________________________________________________\n",
      "dense_15 (Dense)             (None, 10)                1290      \n",
      "=================================================================\n",
      "Total params: 1,199,882\n",
      "Trainable params: 1,199,882\n",
      "Non-trainable params: 0\n",
      "_________________________________________________________________\n",
      "None\n"
     ]
    }
   ],
   "source": [
    "print(model.summary())"
   ]
  },
  {
   "cell_type": "markdown",
   "id": "93bef605-3a44-4902-81b7-312f3bac59b8",
   "metadata": {},
   "source": [
    "<font size=\"5\">Training the Model</font>"
   ]
  },
  {
   "cell_type": "code",
   "execution_count": 126,
   "id": "26229577-c2be-44b2-9351-ec884982747c",
   "metadata": {},
   "outputs": [],
   "source": [
    "batch_size = 32\n",
    "epochs = 9"
   ]
  },
  {
   "cell_type": "code",
   "execution_count": 127,
   "id": "4e16e2b5-5d48-47c3-9b81-d3c933171d0b",
   "metadata": {},
   "outputs": [
    {
     "name": "stdout",
     "output_type": "stream",
     "text": [
      "Epoch 1/9\n",
      "1875/1875 [==============================] - 62s 32ms/step - loss: 0.9952 - accuracy: 0.6813 - val_loss: 0.1936 - val_accuracy: 0.9436\n",
      "Epoch 2/9\n",
      "1875/1875 [==============================] - 61s 33ms/step - loss: 0.3254 - accuracy: 0.9039 - val_loss: 0.1407 - val_accuracy: 0.9571\n",
      "Epoch 3/9\n",
      "1875/1875 [==============================] - 60s 32ms/step - loss: 0.2391 - accuracy: 0.9293 - val_loss: 0.1057 - val_accuracy: 0.9676\n",
      "Epoch 4/9\n",
      "1875/1875 [==============================] - 62s 33ms/step - loss: 0.1892 - accuracy: 0.9424 - val_loss: 0.0828 - val_accuracy: 0.9744\n",
      "Epoch 5/9\n",
      "1875/1875 [==============================] - 61s 33ms/step - loss: 0.1535 - accuracy: 0.9555 - val_loss: 0.0690 - val_accuracy: 0.9786\n",
      "Epoch 6/9\n",
      "1875/1875 [==============================] - 61s 33ms/step - loss: 0.1289 - accuracy: 0.9627 - val_loss: 0.0572 - val_accuracy: 0.9813\n",
      "Epoch 7/9\n",
      "1875/1875 [==============================] - 61s 33ms/step - loss: 0.1080 - accuracy: 0.9683 - val_loss: 0.0510 - val_accuracy: 0.9826\n",
      "Epoch 8/9\n",
      "1875/1875 [==============================] - 61s 33ms/step - loss: 0.1012 - accuracy: 0.9699 - val_loss: 0.0480 - val_accuracy: 0.9846\n",
      "Epoch 9/9\n",
      "1875/1875 [==============================] - 64s 34ms/step - loss: 0.0918 - accuracy: 0.9724 - val_loss: 0.0440 - val_accuracy: 0.9860\n"
     ]
    }
   ],
   "source": [
    "history = model.fit(x_train,y_train, batch_size = batch_size, epochs=epochs, verbose=1, validation_data=(x_test, y_test))"
   ]
  },
  {
   "cell_type": "markdown",
   "id": "e48e3e81-8bd2-4cab-8021-ee302e794416",
   "metadata": {},
   "source": [
    "<font size=\"5\">Validation vs Train Loss</font>"
   ]
  },
  {
   "cell_type": "code",
   "execution_count": 132,
   "id": "f4063bcd-7922-4374-9798-a4ea7b7e7632",
   "metadata": {},
   "outputs": [
    {
     "data": {
      "image/png": "[encoded data removed]",
      "text/plain": [
       "<Figure size 432x288 with 1 Axes>"
      ]
     },
     "metadata": {
      "needs_background": "light"
     },
     "output_type": "display_data"
    }
   ],
   "source": [
    "history_dict = history.history\n",
    "loss_values = history_dict['loss']\n",
    "val_loss_values = history_dict['val_loss']\n",
    "epochs = range(1, len(loss_values)+1)\n",
    "line1 = plt.plot(epochs, val_loss_values, label='Validation/Test Loss')\n",
    "line2 = plt.plot(epochs, loss_values, label='Trainig Loss')\n",
    "plt.setp(line1, linewidth=2.0, marker='+', markersize='15')\n",
    "plt.setp(line2, linewidth=2.0, marker='2', markersize='15')\n",
    "plt.xlabel('Epochs')\n",
    "plt.ylabel('Loss')\n",
    "plt.grid(True)\n",
    "plt.legend()\n",
    "plt.show()"
   ]
  },
  {
   "cell_type": "code",
   "execution_count": null,
   "id": "9ef40dec-7eb6-4551-bf5a-a4fe966d27e3",
   "metadata": {},
   "outputs": [],
   "source": []
  },
  {
   "cell_type": "code",
   "execution_count": 135,
   "id": "cbb0ebcf-ac0e-44b6-8301-882cf2f3bbee",
   "metadata": {},
   "outputs": [
    {
     "data": {
      "image/png": "[encoded data removed]",
      "text/plain": [
       "<Figure size 432x288 with 1 Axes>"
      ]
     },
     "metadata": {
      "needs_background": "light"
     },
     "output_type": "display_data"
    }
   ],
   "source": [
    "history_dict = history.history\n",
    "acc_values = history_dict['accuracy']\n",
    "val_acc_values = history_dict['val_accuracy']\n",
    "epochs = range(1, len(acc_values)+1)\n",
    "line1 = plt.plot(epochs, val_acc_values, label='Validation/Test Accuracy')\n",
    "line2 = plt.plot(epochs, acc_values, label='Trainig Accuracy')\n",
    "plt.setp(line1, linewidth=2.0, marker='+', markersize='15')\n",
    "plt.setp(line2, linewidth=2.0, marker='2', markersize='15')\n",
    "plt.xlabel('Epochs')\n",
    "plt.ylabel('Accuracy')\n",
    "plt.grid(True)\n",
    "plt.legend()\n",
    "plt.show()"
   ]
  },
  {
   "cell_type": "code",
   "execution_count": 134,
   "id": "5959de70-1a7c-460d-a5cc-2975371c99d0",
   "metadata": {},
   "outputs": [
    {
     "name": "stdout",
     "output_type": "stream",
     "text": [
      "{'loss': [0.6027543544769287, 0.29860904812812805, 0.22867949306964874, 0.18395115435123444, 0.14566819369792938, 0.12509149312973022, 0.1084253266453743, 0.09943292289972305, 0.09191320091485977], 'accuracy': [0.8110833168029785, 0.9107999801635742, 0.9312999844551086, 0.9449666738510132, 0.956933319568634, 0.9629999995231628, 0.9680500030517578, 0.970466673374176, 0.9723166823387146], 'val_loss': [0.19362953305244446, 0.14071044325828552, 0.10565289109945297, 0.08280722796916962, 0.06895968317985535, 0.0571962334215641, 0.051016196608543396, 0.047998249530792236, 0.04395829513669014], 'val_accuracy': [0.9435999989509583, 0.957099974155426, 0.9675999879837036, 0.974399983882904, 0.978600025177002, 0.9812999963760376, 0.9825999736785889, 0.9846000075340271, 0.9860000014305115]}\n"
     ]
    }
   ],
   "source": [
    "print(history.history)"
   ]
  },
  {
   "cell_type": "markdown",
   "id": "bfff176b-3565-46c3-a82c-2701395e72b6",
   "metadata": {},
   "source": [
    "<font size=\"5\">Saving and Loading The Model (Start From Here Next Time)</font>"
   ]
  },
  {
   "cell_type": "code",
   "execution_count": 136,
   "id": "1c44ffee-5028-43ed-b984-827abda93f88",
   "metadata": {},
   "outputs": [],
   "source": [
    "model.save(\"./mnist.h5\")"
   ]
  },
  {
   "cell_type": "code",
   "execution_count": 139,
   "id": "dd13eb45-fc1e-4160-813e-fadc091c6f78",
   "metadata": {},
   "outputs": [],
   "source": [
    "from tensorflow.keras.models import load_model"
   ]
  },
  {
   "cell_type": "code",
   "execution_count": 140,
   "id": "21f1d6e7-cd63-477c-9eac-34bbed926e81",
   "metadata": {},
   "outputs": [],
   "source": [
    "model = load_model(\"mnist.h5\")"
   ]
  },
  {
   "cell_type": "code",
   "execution_count": 141,
   "id": "1c57ede0-f0b9-49bf-8198-6f4f3c13b270",
   "metadata": {},
   "outputs": [
    {
     "name": "stderr",
     "output_type": "stream",
     "text": [
      "d:\\programes\\new folder\\envs\\tf-cpu\\lib\\site-packages\\tensorflow\\python\\keras\\engine\\sequential.py:450: UserWarning: `model.predict_classes()` is deprecated and will be removed after 2021-01-01. Please use instead:* `np.argmax(model.predict(x), axis=-1)`,   if your model does multi-class classification   (e.g. if it uses a `softmax` last-layer activation).* `(model.predict(x) > 0.5).astype(\"int32\")`,   if your model does binary classification   (e.g. if it uses a `sigmoid` last-layer activation).\n",
      "  warnings.warn('`model.predict_classes()` is deprecated and '\n"
     ]
    }
   ],
   "source": [
    "predictions = model.predict_classes(x_test)"
   ]
  },
  {
   "cell_type": "code",
   "execution_count": null,
   "id": "0c92e6b8-891d-486d-8c03-0e7ea1bd1505",
   "metadata": {},
   "outputs": [],
   "source": []
  },
  {
   "cell_type": "code",
   "execution_count": null,
   "id": "982c17f2-e413-4dfd-aca9-21bf1e64fc5e",
   "metadata": {},
   "outputs": [],
   "source": []
  }
 ],
 "metadata": {
  "kernelspec": {
   "display_name": "Python 3 (ipykernel)",
   "language": "python",
   "name": "python3"
  },
  "language_info": {
   "codemirror_mode": {
    "name": "ipython",
    "version": 3
   },
   "file_extension": ".py",
   "mimetype": "text/x-python",
   "name": "python",
   "nbconvert_exporter": "python",
   "pygments_lexer": "ipython3",
   "version": "3.8.0"
  }
 },
 "nbformat": 4,
 "nbformat_minor": 5
}
