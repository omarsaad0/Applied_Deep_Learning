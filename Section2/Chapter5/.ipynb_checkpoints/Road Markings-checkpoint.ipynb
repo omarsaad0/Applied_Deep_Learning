{
 "cells": [
  {
   "cell_type": "markdown",
   "metadata": {},
   "source": [
    "Finding Road markings Chapter 5 #omar saad"
   ]
  },
  {
   "cell_type": "code",
   "execution_count": 2,
   "metadata": {},
   "outputs": [],
   "source": [
    "import cv2\n",
    "import numpy as np \n",
    "from matplotlib import pyplot as plt \n",
    "%matplotlib inline"
   ]
  },
  {
   "cell_type": "code",
   "execution_count": 2,
   "metadata": {},
   "outputs": [],
   "source": [
    "image = cv2.imread('test_image.jpg')\n",
    "cv2.imshow('input_image', image)\n",
    "cv2.waitKey(0)\n",
    "cv2.destroyAllWindows()"
   ]
  },
  {
   "cell_type": "markdown",
   "metadata": {},
   "source": [
    "converting the image to grayscale"
   ]
  },
  {
   "cell_type": "code",
   "execution_count": 4,
   "metadata": {},
   "outputs": [],
   "source": [
    "lanelines_image = np.copy(image)"
   ]
  },
  {
   "cell_type": "code",
   "execution_count": 10,
   "metadata": {},
   "outputs": [],
   "source": [
    "gray_conversion = cv2.cvtColor(lanelines_image, cv2.COLOR_RGB2GRAY)\n",
    "cv2.imshow('Gray image', gray_conversion)\n",
    "cv2.waitKey(0)\n",
    "cv2.destroyAllWindows()"
   ]
  },
  {
   "cell_type": "markdown",
   "metadata": {},
   "source": [
    "Smoothing The image using gaussian blur"
   ]
  },
  {
   "cell_type": "code",
   "execution_count": 11,
   "metadata": {},
   "outputs": [],
   "source": [
    "blur_conversion = cv2.GaussianBlur(gray_conversion, (5,5), 0)\n",
    "cv2.imshow('Blurred image', blur_conversion)\n",
    "cv2.waitKey(0)\n",
    "cv2.destroyAllWindows()"
   ]
  },
  {
   "cell_type": "markdown",
   "metadata": {},
   "source": [
    "Canny Edge Detecion "
   ]
  },
  {
   "cell_type": "code",
   "execution_count": 12,
   "metadata": {},
   "outputs": [],
   "source": [
    "canny_conversion = cv2.Canny(blur_conversion, 50, 155)\n",
    "cv2.imshow('Canny image', canny_conversion)\n",
    "cv2.waitKey(0)\n",
    "cv2.destroyAllWindows()"
   ]
  },
  {
   "cell_type": "markdown",
   "metadata": {},
   "source": [
    "Masking the region of interest (Applying bitwise_and)"
   ]
  },
  {
   "cell_type": "code",
   "execution_count": 13,
   "metadata": {},
   "outputs": [],
   "source": [
    "def canny_edge(image):\n",
    "    gray_conversion = cv2.cvtColor(image, cv2.COLOR_RGB2GRAY)\n",
    "    blur_conversion = cv2.GaussianBlur(gray_conversion, (5,5), 0)\n",
    "    canny_conversion = cv2.Canny(blur_conversion, 50, 155)\n",
    "    return(canny_conversion)"
   ]
  },
  {
   "cell_type": "code",
   "execution_count": 37,
   "metadata": {},
   "outputs": [],
   "source": [
    "def reg_of_interest(image):\n",
    "    image_height = image.shape[0]\n",
    "    polygons = np.array([[(200, image_height), (1100, image_height), (550, 250)]])  #ROI 4 points \n",
    "    image_mask = np.zeros_like(image)\n",
    "    cv2.fillPoly(image_mask, polygons, 255)\n",
    "    masking_image = cv2.bitwise_and(image, image_mask)\n",
    "    return(masking_image)"
   ]
  },
  {
   "cell_type": "code",
   "execution_count": 38,
   "metadata": {},
   "outputs": [],
   "source": [
    "lanelines_image = np.copy(image)\n",
    "canny_conversion = canny_edge(lanelines_image)\n",
    "cv2.imshow('Result ROI', reg_of_interest(canny_conversion))\n",
    "cv2.waitKey(0)\n",
    "cv2.destroyAllWindows()"
   ]
  },
  {
   "cell_type": "markdown",
   "metadata": {},
   "source": [
    "Applying Hough Transform"
   ]
  },
  {
   "cell_type": "code",
   "execution_count": 48,
   "metadata": {},
   "outputs": [],
   "source": [
    "def show_lines(image, lines):\n",
    "    lines_image = np.zeros_like(image)\n",
    "    if lines is not None:\n",
    "        for line in lines:\n",
    "            X1, Y1, X2, Y2 = line.reshape(4)\n",
    "            cv2.line(lines_image, (X1, Y1), (X2, Y2), (255,0,0), 10)\n",
    "    return(lines_image)"
   ]
  },
  {
   "cell_type": "code",
   "execution_count": 49,
   "metadata": {},
   "outputs": [],
   "source": [
    "lanelines_image = np.copy(image)\n",
    "canny_conv = canny_edge(lanelines_image)\n",
    "cropped_image = reg_of_interest(canny_conv)"
   ]
  },
  {
   "cell_type": "code",
   "execution_count": 50,
   "metadata": {},
   "outputs": [],
   "source": [
    "lane_lines = cv2.HoughLinesP(cropped_image, 2, np.pi/180, 100, np.array([]), minLineLength=40, maxLineGap=5)"
   ]
  },
  {
   "cell_type": "code",
   "execution_count": 51,
   "metadata": {},
   "outputs": [],
   "source": [
    "linelines_image = show_lines(lanelines_image, lane_lines)"
   ]
  },
  {
   "cell_type": "code",
   "execution_count": 52,
   "metadata": {},
   "outputs": [],
   "source": [
    "cv2.imshow('Result', linelines_image)\n",
    "cv2.waitKey(0)\n",
    "cv2.destroyAllWindows()"
   ]
  },
  {
   "cell_type": "code",
   "execution_count": 53,
   "metadata": {},
   "outputs": [],
   "source": [
    "combine_image = cv2.addWeighted(lanelines_image, 0.8, linelines_image, 1, 1)"
   ]
  },
  {
   "cell_type": "code",
   "execution_count": 54,
   "metadata": {},
   "outputs": [],
   "source": [
    "cv2.imshow('Result', combine_image)\n",
    "cv2.waitKey(0)\n",
    "cv2.destroyAllWindows()"
   ]
  },
  {
   "cell_type": "markdown",
   "metadata": {},
   "source": [
    "Optimizing the detected road markings"
   ]
  },
  {
   "cell_type": "code",
   "execution_count": 59,
   "metadata": {},
   "outputs": [],
   "source": [
    "def make_coordinates(image, line_parameters):\n",
    "    slope, intercept = line_parameters\n",
    "    y1 = image.shape[0]\n",
    "    y2 = int(y1*(3/5))\n",
    "    x1 = int((y1- intercept)/slope)\n",
    "    x2 = int((y2 - intercept)/slope)\n",
    "    return np.array([x1, y1, x2, y2])"
   ]
  },
  {
   "cell_type": "code",
   "execution_count": 63,
   "metadata": {},
   "outputs": [],
   "source": [
    "def average_slope_intercept(image, lines):\n",
    "    left_fit = []\n",
    "    right_fit = []\n",
    "    for line in lines:\n",
    "        x1, y1, x2, y2 = line.reshape(4)\n",
    "        parameter = np.polyfit((x1, x2), (y1, y2), 1)\n",
    "        slope = parameter[0]\n",
    "        intercept = parameter[1]\n",
    "        if slope < 0:\n",
    "          left_fit.append((slope, intercept))\n",
    "        else:\n",
    "          right_fit.append((slope, intercept))\n",
    "    left_fit_average =np.average(left_fit, axis=0)\n",
    "    right_fit_average = np.average(right_fit, axis =0)\n",
    "    left_line =make_coordinates(image, left_fit_average)\n",
    "    right_line = make_coordinates(image, right_fit_average)\n",
    "\n",
    "    return np.array([left_line, right_line])"
   ]
  },
  {
   "cell_type": "markdown",
   "metadata": {},
   "source": [
    "Display final output"
   ]
  },
  {
   "cell_type": "code",
   "execution_count": 3,
   "metadata": {},
   "outputs": [
    {
     "ename": "NameError",
     "evalue": "name 'gray_conversion' is not defined",
     "output_type": "error",
     "traceback": [
      "\u001b[1;31m---------------------------------------------------------------------------\u001b[0m",
      "\u001b[1;31mNameError\u001b[0m                                 Traceback (most recent call last)",
      "\u001b[1;32m<ipython-input-3-615a4b3eabc6>\u001b[0m in \u001b[0;36m<module>\u001b[1;34m()\u001b[0m\n\u001b[0;32m     20\u001b[0m \u001b[0mimage\u001b[0m \u001b[1;33m=\u001b[0m \u001b[0mcv2\u001b[0m\u001b[1;33m.\u001b[0m\u001b[0mimread\u001b[0m\u001b[1;33m(\u001b[0m\u001b[1;34m'test_image.jpg'\u001b[0m\u001b[1;33m)\u001b[0m\u001b[1;33m\u001b[0m\u001b[0m\n\u001b[0;32m     21\u001b[0m \u001b[0mlanelines_image\u001b[0m \u001b[1;33m=\u001b[0m \u001b[0mnp\u001b[0m\u001b[1;33m.\u001b[0m\u001b[0mcopy\u001b[0m\u001b[1;33m(\u001b[0m\u001b[0mimage\u001b[0m\u001b[1;33m)\u001b[0m\u001b[1;33m\u001b[0m\u001b[0m\n\u001b[1;32m---> 22\u001b[1;33m \u001b[0mcanny_image\u001b[0m \u001b[1;33m=\u001b[0m \u001b[0mcanny_edge\u001b[0m\u001b[1;33m(\u001b[0m\u001b[0mlanelines_image\u001b[0m\u001b[1;33m)\u001b[0m\u001b[1;33m\u001b[0m\u001b[0m\n\u001b[0m\u001b[0;32m     23\u001b[0m \u001b[0mcropped_image\u001b[0m \u001b[1;33m=\u001b[0m \u001b[0mreg_of_interest\u001b[0m\u001b[1;33m(\u001b[0m\u001b[0mcanny_image\u001b[0m\u001b[1;33m)\u001b[0m\u001b[1;33m\u001b[0m\u001b[0m\n\u001b[0;32m     24\u001b[0m \u001b[0mlines\u001b[0m \u001b[1;33m=\u001b[0m \u001b[0mcv2\u001b[0m\u001b[1;33m.\u001b[0m\u001b[0mHoughLinesP\u001b[0m\u001b[1;33m(\u001b[0m\u001b[0mcropped_image\u001b[0m\u001b[1;33m,\u001b[0m \u001b[1;36m2\u001b[0m\u001b[1;33m,\u001b[0m \u001b[0mnp\u001b[0m\u001b[1;33m.\u001b[0m\u001b[0mpi\u001b[0m\u001b[1;33m/\u001b[0m\u001b[1;36m180\u001b[0m\u001b[1;33m,\u001b[0m \u001b[1;36m100\u001b[0m\u001b[1;33m,\u001b[0m \u001b[0mnp\u001b[0m\u001b[1;33m.\u001b[0m\u001b[0marray\u001b[0m\u001b[1;33m(\u001b[0m\u001b[1;33m[\u001b[0m\u001b[1;33m]\u001b[0m\u001b[1;33m)\u001b[0m\u001b[1;33m,\u001b[0m \u001b[0mminLineLength\u001b[0m\u001b[1;33m=\u001b[0m \u001b[1;36m40\u001b[0m\u001b[1;33m,\u001b[0m \u001b[0mmaxLineGap\u001b[0m\u001b[1;33m=\u001b[0m\u001b[1;36m5\u001b[0m\u001b[1;33m)\u001b[0m\u001b[1;33m\u001b[0m\u001b[0m\n",
      "\u001b[1;32m<ipython-input-3-615a4b3eabc6>\u001b[0m in \u001b[0;36mcanny_edge\u001b[1;34m(image)\u001b[0m\n\u001b[0;32m      1\u001b[0m \u001b[1;32mdef\u001b[0m \u001b[0mcanny_edge\u001b[0m\u001b[1;33m(\u001b[0m\u001b[0mimage\u001b[0m\u001b[1;33m)\u001b[0m\u001b[1;33m:\u001b[0m\u001b[1;33m\u001b[0m\u001b[0m\n\u001b[0;32m      2\u001b[0m     \u001b[0mgray_coversion\u001b[0m\u001b[1;33m=\u001b[0m \u001b[0mcv2\u001b[0m\u001b[1;33m.\u001b[0m\u001b[0mcvtColor\u001b[0m\u001b[1;33m(\u001b[0m\u001b[0mimage\u001b[0m\u001b[1;33m,\u001b[0m \u001b[0mcv2\u001b[0m\u001b[1;33m.\u001b[0m\u001b[0mCOLOR_RGB2GRAY\u001b[0m\u001b[1;33m)\u001b[0m\u001b[1;33m\u001b[0m\u001b[0m\n\u001b[1;32m----> 3\u001b[1;33m     \u001b[0mblur_conversion\u001b[0m \u001b[1;33m=\u001b[0m \u001b[0mcv2\u001b[0m\u001b[1;33m.\u001b[0m\u001b[0mGaussianBlur\u001b[0m\u001b[1;33m(\u001b[0m\u001b[0mgray_conversion\u001b[0m\u001b[1;33m,\u001b[0m \u001b[1;33m(\u001b[0m\u001b[1;36m5\u001b[0m\u001b[1;33m,\u001b[0m\u001b[1;36m5\u001b[0m\u001b[1;33m)\u001b[0m\u001b[1;33m,\u001b[0m\u001b[1;36m0\u001b[0m\u001b[1;33m)\u001b[0m\u001b[1;33m\u001b[0m\u001b[0m\n\u001b[0m\u001b[0;32m      4\u001b[0m     \u001b[0mcanny_conversion\u001b[0m \u001b[1;33m=\u001b[0m \u001b[0mcv2\u001b[0m\u001b[1;33m.\u001b[0m\u001b[0mCanny\u001b[0m\u001b[1;33m(\u001b[0m\u001b[0mblur_conversion\u001b[0m\u001b[1;33m,\u001b[0m \u001b[1;36m50\u001b[0m\u001b[1;33m,\u001b[0m\u001b[1;36m150\u001b[0m\u001b[1;33m)\u001b[0m\u001b[1;33m\u001b[0m\u001b[0m\n\u001b[0;32m      5\u001b[0m     \u001b[1;32mreturn\u001b[0m \u001b[0mcanny_conversion\u001b[0m\u001b[1;33m\u001b[0m\u001b[0m\n",
      "\u001b[1;31mNameError\u001b[0m: name 'gray_conversion' is not defined"
     ]
    }
   ],
   "source": [
    "def canny_edge(image):\n",
    "    gray_coversion= cv2.cvtColor(image, cv2.COLOR_RGB2GRAY)\n",
    "    blur_conversion = cv2.GaussianBlur(gray_conversion, (5,5),0)\n",
    "    canny_conversion = cv2.Canny(blur_conversion, 50,150)\n",
    "    return canny_conversion\n",
    "def show_lines(image, lines):\n",
    "    lanelines_image = np.zeros_like(image)\n",
    "    if lines is not None:\n",
    "        for line in lines:\n",
    "            X1, Y1, X2, Y2 = line.reshape(4)\n",
    "            cv2.line(lanelines_image, (X1, Y1), (X2, Y2), (255,0,0), 10)\n",
    "    return lanelines_image\n",
    "def reg_of_interest(image):\n",
    "    image_height = image.shape[0]\n",
    "    polygons = np.array([[(200, image_height), (1100, image_height), (551, 250)]])\n",
    "    image_mask = np.zeros_like(image)\n",
    "    cv2.fillPoly(image_mask, polygons, 255)\n",
    "    masking_image = cv2.bitwise_and(image,image_mask)\n",
    "    return masking_image\n",
    "image = cv2.imread('test_image.jpg')\n",
    "lanelines_image = np.copy(image)\n",
    "canny_image = canny_edge(lanelines_image)\n",
    "cropped_image = reg_of_interest(canny_image)\n",
    "lines = cv2.HoughLinesP(cropped_image, 2, np.pi/180, 100, np.array([]), minLineLength= 40, maxLineGap=5)\n",
    "averaged_lines = average_slope_intercept(lanelines_image, lines)\n",
    "line_image = show_lines(lanelines_image, averaged_lines)\n",
    "combine_image = cv2.addWeighted(lanelines_image, 0.8, line_image, 1, 1)\n",
    "cv2.imshow('result', combine_image)\n",
    "cv2.waitKey(0)\n",
    "cv2.destroyAllWindows()"
   ]
  },
  {
   "cell_type": "markdown",
   "metadata": {},
   "source": [
    "Detecting Road Markings in a video"
   ]
  },
  {
   "cell_type": "code",
   "execution_count": 3,
   "metadata": {},
   "outputs": [],
   "source": [
    "def canny_edge(image):\n",
    "    gray_conversion= cv2.cvtColor(image, cv2.COLOR_RGB2GRAY)\n",
    "    blur_conversion = cv2.GaussianBlur(gray_conversion, (5,5),0)\n",
    "    canny_conversion = cv2.Canny(blur_conversion, 50,150)\n",
    "    return canny_conversion\n",
    "\n",
    "def show_lines(image, lines):\n",
    "    lanelines_image = np.zeros_like(image)\n",
    "    if lines is not None:\n",
    "        for line in lines:\n",
    "            X1, Y1, X2, Y2 = line.reshape(4)\n",
    "            cv2.line(lanelines_image, (X1, Y1), (X2, Y2), (255,0,0), 10)\n",
    "    return lanelines_image\n",
    "\n",
    "def reg_of_interest(image):\n",
    "    image_height = image.shape[0]\n",
    "    polygons = np.array([[(200, image_height), (1100, image_height), (551, 250)]])\n",
    "    image_mask = np.zeros_like(image)\n",
    "    cv2.fillPoly(image_mask, polygons, 255)\n",
    "    masking_image = cv2.bitwise_and(image,image_mask)\n",
    "    return masking_image\n",
    "\n",
    "def make_coordinates(image, line_parameters):\n",
    "    try:\n",
    "        slope, intercept = line_parameters\n",
    "    except TypeError:\n",
    "        slope, intercept = 0.001,0\n",
    "    #slope, intercept = line_parameters\n",
    "    y1 = image.shape[0]\n",
    "    y2 = int(y1*(3/5))\n",
    "    x1 = int((y1- intercept)/slope)\n",
    "    x2 = int((y2 - intercept)/slope)\n",
    "    return np.array([x1, y1, x2, y2])\n",
    "\n",
    "def average_slope_intercept(image, lines):\n",
    "    left_fit = []\n",
    "    right_fit = []\n",
    "    for line in lines:\n",
    "        x1, y1, x2, y2 = line.reshape(4)\n",
    "        parameter = np.polyfit((x1, x2), (y1, y2), 1)\n",
    "        slope = parameter[0]\n",
    "        intercept = parameter[1]\n",
    "        if slope < 0:\n",
    "          left_fit.append((slope, intercept))\n",
    "        else:\n",
    "          right_fit.append((slope, intercept))\n",
    "    left_fit_average =np.average(left_fit, axis=0)\n",
    "    right_fit_average = np.average(right_fit, axis =0)\n",
    "    left_line =make_coordinates(image, left_fit_average)\n",
    "    right_line = make_coordinates(image, right_fit_average)\n",
    "\n",
    "    return np.array([left_line, right_line])"
   ]
  },
  {
   "cell_type": "code",
   "execution_count": 4,
   "metadata": {},
   "outputs": [],
   "source": [
    "cap = cv2.VideoCapture('test2.mp4')\n",
    "while(cap.isOpened()):\n",
    "    _, frame = cap.read()\n",
    "    canny_image = canny_edge(frame)\n",
    "    cropped_canny = reg_of_interest(canny_image)\n",
    "    lines = cv2.HoughLinesP(cropped_canny, 2, np.pi/180, 100, np.array([]), minLineLength=40,maxLineGap=5)\n",
    "    averaged_lines = average_slope_intercept(frame, lines)\n",
    "    line_image = show_lines(frame, averaged_lines)\n",
    "    combo_image = cv2.addWeighted(frame, 0.8, line_image, 1, 1)\n",
    "    cv2.imshow(\"result\", combo_image)\n",
    "    if cv2.waitKey(1) & 0xFF == ord('q'):\n",
    "        break\n",
    "cap.release()\n",
    "cv2.waitKey(0)\n",
    "cv2.destroyAllWindows()"
   ]
  },
  {
   "cell_type": "code",
   "execution_count": null,
   "metadata": {},
   "outputs": [],
   "source": []
  }
 ],
 "metadata": {
  "kernelspec": {
   "display_name": "Python 3",
   "language": "python",
   "name": "python3"
  },
  "language_info": {
   "codemirror_mode": {
    "name": "ipython",
    "version": 3
   },
   "file_extension": ".py",
   "mimetype": "text/x-python",
   "name": "python",
   "nbconvert_exporter": "python",
   "pygments_lexer": "ipython3",
   "version": "3.6.6"
  }
 },
 "nbformat": 4,
 "nbformat_minor": 2
}
