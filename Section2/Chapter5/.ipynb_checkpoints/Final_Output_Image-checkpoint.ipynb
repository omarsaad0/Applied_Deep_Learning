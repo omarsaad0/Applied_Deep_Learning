{
 "cells": [
  {
   "cell_type": "code",
   "execution_count": 1,
   "metadata": {},
   "outputs": [],
   "source": [
    "import cv2\n",
    "import numpy as np \n",
    "from matplotlib import pyplot as plt \n",
    "%matplotlib inline"
   ]
  },
  {
   "cell_type": "code",
   "execution_count": 2,
   "metadata": {},
   "outputs": [],
   "source": [
    "image = cv2.imread('test_image.jpg')"
   ]
  },
  {
   "cell_type": "code",
   "execution_count": 5,
   "metadata": {},
   "outputs": [],
   "source": [
    "def canny_edge(image):\n",
    "    gray_conversion= cv2.cvtColor(image, cv2.COLOR_RGB2GRAY)\n",
    "    blur_conversion = cv2.GaussianBlur(gray_conversion, (5,5),0)\n",
    "    canny_conversion = cv2.Canny(blur_conversion, 50,150)\n",
    "    return canny_conversion\n",
    "\n",
    "def show_lines(image, lines):\n",
    "    lanelines_image = np.zeros_like(image)\n",
    "    if lines is not None:\n",
    "        for line in lines:\n",
    "            X1, Y1, X2, Y2 = line.reshape(4)\n",
    "            cv2.line(lanelines_image, (X1, Y1), (X2, Y2), (255,0,0), 10)\n",
    "    return lanelines_image\n",
    "\n",
    "def reg_of_interest(image):\n",
    "    image_height = image.shape[0]\n",
    "    polygons = np.array([[(200, image_height), (1100, image_height), (551, 250)]])\n",
    "    image_mask = np.zeros_like(image)\n",
    "    cv2.fillPoly(image_mask, polygons, 255)\n",
    "    masking_image = cv2.bitwise_and(image,image_mask)\n",
    "    return masking_image\n",
    "\n",
    "def make_coordinates(image, line_parameters):\n",
    "    slope, intercept = line_parameters\n",
    "    y1 = image.shape[0]\n",
    "    y2 = int(y1*(3/5))\n",
    "    x1 = int((y1- intercept)/slope)\n",
    "    x2 = int((y2 - intercept)/slope)\n",
    "    return np.array([x1, y1, x2, y2])\n",
    "\n",
    "def average_slope_intercept(image, lines):\n",
    "    left_fit = []\n",
    "    right_fit = []\n",
    "    for line in lines:\n",
    "        x1, y1, x2, y2 = line.reshape(4)\n",
    "        parameter = np.polyfit((x1, x2), (y1, y2), 1)\n",
    "        slope = parameter[0]\n",
    "        intercept = parameter[1]\n",
    "        if slope < 0:\n",
    "          left_fit.append((slope, intercept))\n",
    "        else:\n",
    "          right_fit.append((slope, intercept))\n",
    "    left_fit_average =np.average(left_fit, axis=0)\n",
    "    right_fit_average = np.average(right_fit, axis =0)\n",
    "    left_line =make_coordinates(image, left_fit_average)\n",
    "    right_line = make_coordinates(image, right_fit_average)\n",
    "\n",
    "    return np.array([left_line, right_line])"
   ]
  },
  {
   "cell_type": "code",
   "execution_count": 6,
   "metadata": {},
   "outputs": [],
   "source": [
    "lanelines_image = np.copy(image)\n",
    "canny_image = canny_edge(lanelines_image)\n",
    "cropped_image = reg_of_interest(canny_image)\n",
    "lines = cv2.HoughLinesP(cropped_image, 2, np.pi/180, 100, np.array([]), minLineLength= 40, maxLineGap=5)\n",
    "averaged_lines = average_slope_intercept(lanelines_image, lines)\n",
    "line_image = show_lines(lanelines_image, averaged_lines)\n",
    "combine_image = cv2.addWeighted(lanelines_image, 0.8, line_image, 1, 1)\n",
    "cv2.imshow('result', combine_image)\n",
    "cv2.waitKey(0)\n",
    "cv2.destroyAllWindows()"
   ]
  },
  {
   "cell_type": "code",
   "execution_count": null,
   "metadata": {},
   "outputs": [],
   "source": []
  }
 ],
 "metadata": {
  "kernelspec": {
   "display_name": "Python 3",
   "language": "python",
   "name": "python3"
  },
  "language_info": {
   "codemirror_mode": {
    "name": "ipython",
    "version": 3
   },
   "file_extension": ".py",
   "mimetype": "text/x-python",
   "name": "python",
   "nbconvert_exporter": "python",
   "pygments_lexer": "ipython3",
   "version": "3.6.6"
  }
 },
 "nbformat": 4,
 "nbformat_minor": 2
}
