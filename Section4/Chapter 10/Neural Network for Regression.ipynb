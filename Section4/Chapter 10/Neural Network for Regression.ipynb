{
 "cells": [
  {
   "cell_type": "markdown",
   "id": "1a91158f-44db-498f-9c7c-03ffef3f5bd9",
   "metadata": {},
   "source": [
    "<font size=\"5\"> Neural Network for Regression (Omar Saad)  </font>"
   ]
  },
  {
   "cell_type": "code",
   "execution_count": 1,
   "id": "bc836a46-f87d-4531-bde6-5450134fdef6",
   "metadata": {},
   "outputs": [],
   "source": [
    "import numpy as np \n",
    "import matplotlib.pyplot as plt \n",
    "import tensorflow\n",
    "from tensorflow.keras import layers "
   ]
  },
  {
   "cell_type": "code",
   "execution_count": 6,
   "id": "0b013aec-bb26-476b-9edb-9c055c2ac29a",
   "metadata": {},
   "outputs": [
    {
     "data": {
      "text/plain": [
       "<matplotlib.collections.PathCollection at 0x21f064cce80>"
      ]
     },
     "execution_count": 6,
     "metadata": {},
     "output_type": "execute_result"
    },
    {
     "data": {
      "image/png": "[encoded data removed]",
      "text/plain": [
       "<Figure size 432x288 with 1 Axes>"
      ]
     },
     "metadata": {
      "needs_background": "light"
     },
     "output_type": "display_data"
    }
   ],
   "source": [
    "np.random.seed(0)\n",
    "points = 500\n",
    "x = np.linspace(-3,3, points)\n",
    "y = np.sin(x) + np.random.uniform(-0.5, 0.5, points)\n",
    "plt.scatter(x,y)"
   ]
  },
  {
   "cell_type": "code",
   "execution_count": 8,
   "id": "fbbdbb61-ab41-448b-8ec3-63c9170181ca",
   "metadata": {},
   "outputs": [],
   "source": [
    "model = tensorflow.keras.Sequential()\n",
    "model.add(tensorflow.keras.layers.Dense(50, activation='sigmoid', input_dim=1))\n",
    "model.add(tensorflow.keras.layers.Dense(30, activation='sigmoid'))\n",
    "model.add(tensorflow.keras.layers.Dense(1))"
   ]
  },
  {
   "cell_type": "code",
   "execution_count": 10,
   "id": "8311bf65-c0e0-4315-b83e-50528b512836",
   "metadata": {},
   "outputs": [],
   "source": [
    "adam = tensorflow.keras.optimizers.Adam(lr=0.01)"
   ]
  },
  {
   "cell_type": "code",
   "execution_count": 11,
   "id": "ef6556cf-2184-466e-9007-9550e7861ad0",
   "metadata": {},
   "outputs": [
    {
     "name": "stdout",
     "output_type": "stream",
     "text": [
      "Epoch 1/100\n",
      "16/16 [==============================] - 1s 986us/step - loss: 0.6306\n",
      "Epoch 2/100\n",
      "16/16 [==============================] - 0s 915us/step - loss: 0.3048\n",
      "Epoch 3/100\n",
      "16/16 [==============================] - 0s 905us/step - loss: 0.2112\n",
      "Epoch 4/100\n",
      "16/16 [==============================] - 0s 916us/step - loss: 0.2179\n",
      "Epoch 5/100\n",
      "16/16 [==============================] - 0s 992us/step - loss: 0.2279\n",
      "Epoch 6/100\n",
      "16/16 [==============================] - 0s 899us/step - loss: 0.2166\n",
      "Epoch 7/100\n",
      "16/16 [==============================] - 0s 870us/step - loss: 0.2010\n",
      "Epoch 8/100\n",
      "16/16 [==============================] - 0s 1ms/step - loss: 0.1967\n",
      "Epoch 9/100\n",
      "16/16 [==============================] - 0s 962us/step - loss: 0.2012\n",
      "Epoch 10/100\n",
      "16/16 [==============================] - 0s 904us/step - loss: 0.1679\n",
      "Epoch 11/100\n",
      "16/16 [==============================] - 0s 903us/step - loss: 0.1839\n",
      "Epoch 12/100\n",
      "16/16 [==============================] - 0s 931us/step - loss: 0.1762\n",
      "Epoch 13/100\n",
      "16/16 [==============================] - 0s 954us/step - loss: 0.1617\n",
      "Epoch 14/100\n",
      "16/16 [==============================] - 0s 932us/step - loss: 0.1748\n",
      "Epoch 15/100\n",
      "16/16 [==============================] - 0s 983us/step - loss: 0.1491\n",
      "Epoch 16/100\n",
      "16/16 [==============================] - 0s 921us/step - loss: 0.1376\n",
      "Epoch 17/100\n",
      "16/16 [==============================] - 0s 996us/step - loss: 0.1300\n",
      "Epoch 18/100\n",
      "16/16 [==============================] - 0s 920us/step - loss: 0.1190\n",
      "Epoch 19/100\n",
      "16/16 [==============================] - 0s 1ms/step - loss: 0.1382\n",
      "Epoch 20/100\n",
      "16/16 [==============================] - 0s 1ms/step - loss: 0.1253\n",
      "Epoch 21/100\n",
      "16/16 [==============================] - 0s 950us/step - loss: 0.1227\n",
      "Epoch 22/100\n",
      "16/16 [==============================] - 0s 861us/step - loss: 0.1270\n",
      "Epoch 23/100\n",
      "16/16 [==============================] - 0s 976us/step - loss: 0.1261\n",
      "Epoch 24/100\n",
      "16/16 [==============================] - 0s 887us/step - loss: 0.1251\n",
      "Epoch 25/100\n",
      "16/16 [==============================] - 0s 975us/step - loss: 0.1215\n",
      "Epoch 26/100\n",
      "16/16 [==============================] - 0s 1ms/step - loss: 0.1202\n",
      "Epoch 27/100\n",
      "16/16 [==============================] - 0s 949us/step - loss: 0.1168\n",
      "Epoch 28/100\n",
      "16/16 [==============================] - 0s 1ms/step - loss: 0.1100\n",
      "Epoch 29/100\n",
      "16/16 [==============================] - 0s 944us/step - loss: 0.1144\n",
      "Epoch 30/100\n",
      "16/16 [==============================] - 0s 1ms/step - loss: 0.1175\n",
      "Epoch 31/100\n",
      "16/16 [==============================] - 0s 872us/step - loss: 0.1126\n",
      "Epoch 32/100\n",
      "16/16 [==============================] - 0s 824us/step - loss: 0.0973\n",
      "Epoch 33/100\n",
      "16/16 [==============================] - 0s 912us/step - loss: 0.1022\n",
      "Epoch 34/100\n",
      "16/16 [==============================] - 0s 925us/step - loss: 0.1079\n",
      "Epoch 35/100\n",
      "16/16 [==============================] - 0s 831us/step - loss: 0.1096\n",
      "Epoch 36/100\n",
      "16/16 [==============================] - 0s 827us/step - loss: 0.1047\n",
      "Epoch 37/100\n",
      "16/16 [==============================] - 0s 889us/step - loss: 0.1077\n",
      "Epoch 38/100\n",
      "16/16 [==============================] - 0s 868us/step - loss: 0.1068\n",
      "Epoch 39/100\n",
      "16/16 [==============================] - 0s 909us/step - loss: 0.1024\n",
      "Epoch 40/100\n",
      "16/16 [==============================] - 0s 949us/step - loss: 0.1331\n",
      "Epoch 41/100\n",
      "16/16 [==============================] - 0s 876us/step - loss: 0.1100\n",
      "Epoch 42/100\n",
      "16/16 [==============================] - 0s 881us/step - loss: 0.1118\n",
      "Epoch 43/100\n",
      "16/16 [==============================] - 0s 796us/step - loss: 0.1022\n",
      "Epoch 44/100\n",
      "16/16 [==============================] - 0s 892us/step - loss: 0.1022\n",
      "Epoch 45/100\n",
      "16/16 [==============================] - 0s 1ms/step - loss: 0.0996\n",
      "Epoch 46/100\n",
      "16/16 [==============================] - 0s 1ms/step - loss: 0.1042\n",
      "Epoch 47/100\n",
      "16/16 [==============================] - 0s 1ms/step - loss: 0.1104\n",
      "Epoch 48/100\n",
      "16/16 [==============================] - 0s 1ms/step - loss: 0.1061\n",
      "Epoch 49/100\n",
      "16/16 [==============================] - ETA: 0s - loss: 0.122 - 0s 1ms/step - loss: 0.1239\n",
      "Epoch 50/100\n",
      "16/16 [==============================] - 0s 1ms/step - loss: 0.1201\n",
      "Epoch 51/100\n",
      "16/16 [==============================] - 0s 1ms/step - loss: 0.0970\n",
      "Epoch 52/100\n",
      "16/16 [==============================] - 0s 1ms/step - loss: 0.1126\n",
      "Epoch 53/100\n",
      "16/16 [==============================] - 0s 1ms/step - loss: 0.0987\n",
      "Epoch 54/100\n",
      "16/16 [==============================] - 0s 1ms/step - loss: 0.1077\n",
      "Epoch 55/100\n",
      "16/16 [==============================] - 0s 977us/step - loss: 0.0962\n",
      "Epoch 56/100\n",
      "16/16 [==============================] - 0s 1ms/step - loss: 0.0990\n",
      "Epoch 57/100\n",
      "16/16 [==============================] - 0s 973us/step - loss: 0.0986\n",
      "Epoch 58/100\n",
      "16/16 [==============================] - 0s 959us/step - loss: 0.1032\n",
      "Epoch 59/100\n",
      "16/16 [==============================] - 0s 1ms/step - loss: 0.1006\n",
      "Epoch 60/100\n",
      "16/16 [==============================] - 0s 916us/step - loss: 0.1059\n",
      "Epoch 61/100\n",
      "16/16 [==============================] - 0s 1ms/step - loss: 0.1016\n",
      "Epoch 62/100\n",
      "16/16 [==============================] - 0s 1ms/step - loss: 0.0989\n",
      "Epoch 63/100\n",
      "16/16 [==============================] - 0s 1ms/step - loss: 0.1039\n",
      "Epoch 64/100\n",
      "16/16 [==============================] - 0s 1ms/step - loss: 0.1068\n",
      "Epoch 65/100\n",
      "16/16 [==============================] - 0s 1ms/step - loss: 0.0983\n",
      "Epoch 66/100\n",
      "16/16 [==============================] - 0s 1ms/step - loss: 0.0993\n",
      "Epoch 67/100\n",
      "16/16 [==============================] - 0s 1ms/step - loss: 0.1014\n",
      "Epoch 68/100\n",
      "16/16 [==============================] - 0s 1ms/step - loss: 0.0966\n",
      "Epoch 69/100\n",
      "16/16 [==============================] - 0s 1ms/step - loss: 0.1079\n",
      "Epoch 70/100\n",
      "16/16 [==============================] - 0s 1ms/step - loss: 0.1008\n",
      "Epoch 71/100\n",
      "16/16 [==============================] - 0s 1ms/step - loss: 0.0929\n",
      "Epoch 72/100\n",
      "16/16 [==============================] - 0s 945us/step - loss: 0.0991\n",
      "Epoch 73/100\n",
      "16/16 [==============================] - 0s 968us/step - loss: 0.0984\n",
      "Epoch 74/100\n",
      "16/16 [==============================] - 0s 1ms/step - loss: 0.1102\n",
      "Epoch 75/100\n",
      "16/16 [==============================] - 0s 932us/step - loss: 0.0997\n",
      "Epoch 76/100\n",
      "16/16 [==============================] - 0s 969us/step - loss: 0.0985\n",
      "Epoch 77/100\n",
      "16/16 [==============================] - 0s 916us/step - loss: 0.0955\n",
      "Epoch 78/100\n",
      "16/16 [==============================] - 0s 955us/step - loss: 0.0971\n",
      "Epoch 79/100\n",
      "16/16 [==============================] - 0s 960us/step - loss: 0.0936\n",
      "Epoch 80/100\n",
      "16/16 [==============================] - 0s 839us/step - loss: 0.0919\n",
      "Epoch 81/100\n",
      "16/16 [==============================] - 0s 860us/step - loss: 0.1009\n",
      "Epoch 82/100\n",
      "16/16 [==============================] - 0s 811us/step - loss: 0.0978\n",
      "Epoch 83/100\n",
      "16/16 [==============================] - 0s 721us/step - loss: 0.0900\n",
      "Epoch 84/100\n",
      "16/16 [==============================] - 0s 984us/step - loss: 0.0951\n",
      "Epoch 85/100\n",
      "16/16 [==============================] - 0s 1ms/step - loss: 0.0990\n",
      "Epoch 86/100\n",
      "16/16 [==============================] - 0s 952us/step - loss: 0.0955\n",
      "Epoch 87/100\n",
      "16/16 [==============================] - 0s 949us/step - loss: 0.0878\n",
      "Epoch 88/100\n",
      "16/16 [==============================] - 0s 956us/step - loss: 0.0948\n",
      "Epoch 89/100\n",
      "16/16 [==============================] - 0s 1ms/step - loss: 0.0948\n",
      "Epoch 90/100\n",
      "16/16 [==============================] - 0s 970us/step - loss: 0.0925\n",
      "Epoch 91/100\n",
      "16/16 [==============================] - 0s 793us/step - loss: 0.0926\n",
      "Epoch 92/100\n",
      "16/16 [==============================] - 0s 911us/step - loss: 0.0945\n",
      "Epoch 93/100\n",
      "16/16 [==============================] - 0s 1ms/step - loss: 0.1024\n",
      "Epoch 94/100\n",
      "16/16 [==============================] - 0s 858us/step - loss: 0.0862\n",
      "Epoch 95/100\n",
      "16/16 [==============================] - 0s 887us/step - loss: 0.0883\n",
      "Epoch 96/100\n",
      "16/16 [==============================] - 0s 995us/step - loss: 0.0967\n",
      "Epoch 97/100\n",
      "16/16 [==============================] - 0s 1ms/step - loss: 0.0992\n",
      "Epoch 98/100\n",
      "16/16 [==============================] - 0s 1ms/step - loss: 0.0902\n",
      "Epoch 99/100\n",
      "16/16 [==============================] - 0s 1ms/step - loss: 0.0900\n",
      "Epoch 100/100\n",
      "16/16 [==============================] - 0s 997us/step - loss: 0.0988\n"
     ]
    },
    {
     "data": {
      "text/plain": [
       "<tensorflow.python.keras.callbacks.History at 0x21f07043070>"
      ]
     },
     "execution_count": 11,
     "metadata": {},
     "output_type": "execute_result"
    }
   ],
   "source": [
    "model.compile(loss='mse', optimizer=adam)\n",
    "model.fit(x,y,epochs=100)"
   ]
  },
  {
   "cell_type": "code",
   "execution_count": 20,
   "id": "68c608d0-d43e-48f8-9284-62311143d18a",
   "metadata": {},
   "outputs": [
    {
     "data": {
      "image/png": "[encoded data removed]",
      "text/plain": [
       "<Figure size 432x288 with 1 Axes>"
      ]
     },
     "metadata": {
      "needs_background": "light"
     },
     "output_type": "display_data"
    }
   ],
   "source": [
    "predictions = model.predict(x)\n",
    "plt.scatter(x,y)\n",
    "plt.plot(x, predictions, 'ro')  # 'ro' for red, 'go' for green ....\n",
    "plt.show()"
   ]
  },
  {
   "cell_type": "code",
   "execution_count": null,
   "id": "ab590a72-cf15-4dab-b4bd-2e3a4ad507a6",
   "metadata": {},
   "outputs": [],
   "source": []
  }
 ],
 "metadata": {
  "kernelspec": {
   "display_name": "Python 3 (ipykernel)",
   "language": "python",
   "name": "python3"
  },
  "language_info": {
   "codemirror_mode": {
    "name": "ipython",
    "version": 3
   },
   "file_extension": ".py",
   "mimetype": "text/x-python",
   "name": "python",
   "nbconvert_exporter": "python",
   "pygments_lexer": "ipython3",
   "version": "3.8.0"
  }
 },
 "nbformat": 4,
 "nbformat_minor": 5
}
