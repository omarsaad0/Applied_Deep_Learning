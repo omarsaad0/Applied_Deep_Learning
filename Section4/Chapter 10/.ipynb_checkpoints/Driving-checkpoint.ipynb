{
 "cells": [
  {
   "cell_type": "code",
   "execution_count": null,
   "id": "cc6cf9d7-6f7f-49ba-be96-0fc10257aebc",
   "metadata": {},
   "outputs": [],
   "source": []
  },
  {
   "cell_type": "code",
   "execution_count": null,
   "id": "05e57f71-1fed-4576-b92a-a81ca343b4a8",
   "metadata": {},
   "outputs": [],
   "source": []
  },
  {
   "cell_type": "code",
   "execution_count": null,
   "id": "d908917f-7d06-45a4-aba2-c2d984df67cd",
   "metadata": {},
   "outputs": [],
   "source": []
  },
  {
   "cell_type": "code",
   "execution_count": null,
   "id": "38e64c2a-8731-4daa-bb64-0375c94a3db6",
   "metadata": {},
   "outputs": [],
   "source": []
  },
  {
   "cell_type": "code",
   "execution_count": 1,
   "id": "74a5588e-9279-4124-8c82-40028aad9e64",
   "metadata": {},
   "outputs": [],
   "source": [
    "import socketio\n",
    "import eventlet\n",
    "import numpy as np\n",
    "from flask import Flask\n",
    "from tensorflow.keras.models import load_model\n",
    "import base64\n",
    "from io import BytesIO\n",
    "from PIL import Image\n",
    "import cv2"
   ]
  },
  {
   "cell_type": "code",
   "execution_count": 2,
   "id": "5e28a249-8704-4e69-a21a-ae82b1bbb7b0",
   "metadata": {},
   "outputs": [],
   "source": [
    "sio = socketio.Server()\n",
    "app = Flask(__name__) #'__main__'\n",
    "speed_limit = 30\n",
    "def img_preprocess(img):\n",
    "    img = img[60:135,:,:]\n",
    "    img = cv2.cvtColor(img, cv2.COLOR_RGB2YUV)\n",
    "    img = cv2.GaussianBlur(img,  (3, 3), 0)\n",
    "    img = cv2.resize(img, (200, 66))\n",
    "    img = img/255\n",
    "    return img"
   ]
  },
  {
   "cell_type": "code",
   "execution_count": 3,
   "id": "3282f2fe-7651-4bf1-9325-9e5b6b4b996b",
   "metadata": {},
   "outputs": [],
   "source": [
    "@sio.on('telemetry')\n",
    "def telemetry(sid, data):\n",
    "    speed = float(data['speed'])\n",
    "    image = Image.open(BytesIO(base64.b64decode(data['image'])))\n",
    "    image = np.asarray(image)\n",
    "    image = img_preprocess(image)\n",
    "    image = np.array([image])\n",
    "    steering_angle = float(model.predict(image))\n",
    "    throttle = 1.0 - speed/speed_limit\n",
    "    print('{} {} {}'.format(steering_angle, throttle, speed))\n",
    "    send_control(steering_angle, throttle)"
   ]
  },
  {
   "cell_type": "code",
   "execution_count": 4,
   "id": "ed147b4f-c13c-481b-8c88-ac01ae899d70",
   "metadata": {},
   "outputs": [],
   "source": [
    "@sio.on('connect')\n",
    "def connect(sid, environ):\n",
    "    print('Connected')\n",
    "    send_control(0, 0)\n",
    " \n",
    "def send_control(steering_angle, throttle):\n",
    "    sio.emit('steer', data = {\n",
    "        'steering_angle': steering_angle.__str__(),\n",
    "        'throttle': throttle.__str__()\n",
    "    })\n",
    " "
   ]
  },
  {
   "cell_type": "code",
   "execution_count": null,
   "id": "fca387cb-cfcf-412b-8876-12577759e35e",
   "metadata": {},
   "outputs": [
    {
     "name": "stderr",
     "output_type": "stream",
     "text": [
      "(4060) wsgi starting up on http://0.0.0.0:4567\n",
      "(4060) accepted ('127.0.0.1', 51613)\n",
      "(4060) accepted ('127.0.0.1', 51616)\n",
      "127.0.0.1 - - [12/Apr/2022 19:20:13] \"GET /socket.io/?EIO=4&transport=websocket HTTP/1.1\" 200 0 23.406488\n",
      "127.0.0.1 - - [12/Apr/2022 19:20:13] \"GET /socket.io/?EIO=4&transport=websocket HTTP/1.1\" 200 0 28.614184\n",
      "(4060) accepted ('127.0.0.1', 51626)\n"
     ]
    }
   ],
   "source": [
    "if __name__ == '__main__':\n",
    "    model = load_model('model.h5')\n",
    "    app = socketio.Middleware(sio, app)\n",
    "    eventlet.wsgi.server(eventlet.listen(('', 4567)), app)"
   ]
  },
  {
   "cell_type": "code",
   "execution_count": null,
   "id": "345dadb4-c98d-4ca3-bcf0-0545c9c719a1",
   "metadata": {},
   "outputs": [],
   "source": []
  }
 ],
 "metadata": {
  "kernelspec": {
   "display_name": "Python 3 (ipykernel)",
   "language": "python",
   "name": "python3"
  },
  "language_info": {
   "codemirror_mode": {
    "name": "ipython",
    "version": 3
   },
   "file_extension": ".py",
   "mimetype": "text/x-python",
   "name": "python",
   "nbconvert_exporter": "python",
   "pygments_lexer": "ipython3",
   "version": "3.8.0"
  }
 },
 "nbformat": 4,
 "nbformat_minor": 5
}
