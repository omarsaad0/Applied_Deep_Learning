{
 "cells": [
  {
   "cell_type": "code",
   "execution_count": 1,
   "id": "556a4858-2955-4be7-ae86-0212789ffbcb",
   "metadata": {},
   "outputs": [],
   "source": [
    "#parsing command line arguments\n",
    "import argparse\n",
    "#decoding camera images\n",
    "import base64\n",
    "#for frametimestamp saving\n",
    "from datetime import datetime\n",
    "#reading and writing files\n",
    "import os\n",
    "#high level file operations\n",
    "import shutil\n",
    "#matrix math\n",
    "import numpy as np\n",
    "#real-time server\n",
    "import socketio\n",
    "#concurrent networking \n",
    "import eventlet\n",
    "#web server gateway interface\n",
    "import eventlet.wsgi\n",
    "#image manipulation\n",
    "from PIL import Image\n",
    "#web framework\n",
    "from flask import Flask\n",
    "#input output\n",
    "from io import BytesIO"
   ]
  },
  {
   "cell_type": "code",
   "execution_count": 3,
   "id": "b9fef53f-bb94-4abf-a895-c76d8c7d97b5",
   "metadata": {},
   "outputs": [
    {
     "ename": "AttributeError",
     "evalue": "module 'socketio' has no attribute 'Server'",
     "output_type": "error",
     "traceback": [
      "\u001b[1;31m---------------------------------------------------------------------------\u001b[0m",
      "\u001b[1;31mAttributeError\u001b[0m                            Traceback (most recent call last)",
      "\u001b[1;32mC:\\Users\\OMARSA~1\\AppData\\Local\\Temp/ipykernel_12684/2894130763.py\u001b[0m in \u001b[0;36m<module>\u001b[1;34m\u001b[0m\n\u001b[0;32m      5\u001b[0m \u001b[1;33m\u001b[0m\u001b[0m\n\u001b[0;32m      6\u001b[0m \u001b[1;31m#initialize our server\u001b[0m\u001b[1;33m\u001b[0m\u001b[1;33m\u001b[0m\u001b[1;33m\u001b[0m\u001b[0m\n\u001b[1;32m----> 7\u001b[1;33m \u001b[0msio\u001b[0m \u001b[1;33m=\u001b[0m \u001b[0msocketio\u001b[0m\u001b[1;33m.\u001b[0m\u001b[0mServer\u001b[0m\u001b[1;33m(\u001b[0m\u001b[1;33m)\u001b[0m\u001b[1;33m\u001b[0m\u001b[1;33m\u001b[0m\u001b[0m\n\u001b[0m\u001b[0;32m      8\u001b[0m \u001b[1;31m#our flask (web) app\u001b[0m\u001b[1;33m\u001b[0m\u001b[1;33m\u001b[0m\u001b[1;33m\u001b[0m\u001b[0m\n\u001b[0;32m      9\u001b[0m \u001b[0mapp\u001b[0m \u001b[1;33m=\u001b[0m \u001b[0mFlask\u001b[0m\u001b[1;33m(\u001b[0m\u001b[0m__name__\u001b[0m\u001b[1;33m)\u001b[0m\u001b[1;33m\u001b[0m\u001b[1;33m\u001b[0m\u001b[0m\n",
      "\u001b[1;31mAttributeError\u001b[0m: module 'socketio' has no attribute 'Server'"
     ]
    }
   ],
   "source": [
    "from tensorflow.keras.models import load_model\n",
    "\n",
    "#helper class\n",
    "import utils\n",
    "\n",
    "#initialize our server\n",
    "sio = socketio.Server()\n",
    "#our flask (web) app\n",
    "app = Flask(__name__)\n",
    "#init our model and image array as empty\n",
    "model = None\n",
    "prev_image_array = None\n",
    "\n",
    "#set min/max speed for our autonomous car\n",
    "MAX_SPEED = 25\n",
    "MIN_SPEED = 10\n",
    "\n",
    "#and a speed limit\n",
    "speed_limit = MAX_SPEED\n",
    "\n",
    "#registering event handler for the server\n",
    "@sio.on('telemetry')\n",
    "def telemetry(sid, data):\n",
    "    if data:\n",
    "        # The current steering angle of the car\n",
    "        steering_angle = float(data[\"steering_angle\"])\n",
    "        # The current throttle of the car, how hard to push peddle\n",
    "        throttle = float(data[\"throttle\"])\n",
    "        # The current speed of the car\n",
    "        speed = float(data[\"speed\"])\n",
    "        # The current image from the center camera of the car\n",
    "        image = Image.open(BytesIO(base64.b64decode(data[\"image\"])))\n",
    "        try:\n",
    "            image = np.asarray(image)       # from PIL image to numpy array\n",
    "            image = utils.preprocess(image) # apply the preprocessing\n",
    "            image = np.array([image])       # the model expects 4D array\n",
    "\n",
    "            # predict the steering angle for the image\n",
    "            steering_angle = float(model.predict(image, batch_size=1))\n",
    "            # lower the throttle as the speed increases\n",
    "            # if the speed is above the current speed limit, we are on a downhill.\n",
    "            # make sure we slow down first and then go back to the original max speed.\n",
    "            global speed_limit\n",
    "            if speed > speed_limit:\n",
    "                speed_limit = MIN_SPEED  # slow down\n",
    "            else:\n",
    "                speed_limit = MAX_SPEED\n",
    "            throttle = 1.0 - steering_angle**2 - (speed/speed_limit)**2\n",
    "\n",
    "            print('{} {} {}'.format(steering_angle, throttle, speed))\n",
    "            send_control(steering_angle, throttle)\n",
    "        except Exception as e:\n",
    "            print(e)\n",
    "\n",
    "        # save frame\n",
    "        if args.image_folder != '':\n",
    "            timestamp = datetime.utcnow().strftime('%Y_%m_%d_%H_%M_%S_%f')[:-3]\n",
    "            image_filename = os.path.join(args.image_folder, timestamp)\n",
    "            image.save('{}.jpg'.format(image_filename))\n",
    "    else:\n",
    "        \n",
    "        sio.emit('manual', data={}, skip_sid=True)\n",
    "\n",
    "\n",
    "@sio.on('connect')\n",
    "def connect(sid, environ):\n",
    "    print(\"connect \", sid)\n",
    "    send_control(0, 0)\n",
    "\n",
    "\n",
    "def send_control(steering_angle, throttle):\n",
    "    sio.emit(\n",
    "        \"steer\",\n",
    "        data={\n",
    "            'steering_angle': steering_angle.__str__(),\n",
    "            'throttle': throttle.__str__()\n",
    "        },\n",
    "        skip_sid=True)\n",
    "\n",
    "\n",
    "if __name__ == '__main__':\n",
    "    parser = argparse.ArgumentParser(description='Remote Driving')\n",
    "    parser.add_argument(\n",
    "        'model',\n",
    "        type=str,\n",
    "        help='Path to model h5 file. Model should be on the same path.'\n",
    "    )\n",
    "    parser.add_argument(\n",
    "        'image_folder',\n",
    "        type=str,\n",
    "        nargs='?',\n",
    "        default='',\n",
    "        help='Path to image folder. This is where the images from the run will be saved.'\n",
    "    )\n",
    "    args = parser.parse_args()\n",
    "\n",
    "    #load model\n",
    "    #model = load_model(args.model)\n",
    "    model = load_model(model.h5)\n",
    "    if args.image_folder != '':\n",
    "        print(\"Creating image folder at {}\".format(args.image_folder))\n",
    "        if not os.path.exists(args.image_folder):\n",
    "            os.makedirs(args.image_folder)\n",
    "        else:\n",
    "            shutil.rmtree(args.image_folder)\n",
    "            os.makedirs(args.image_folder)\n",
    "        print(\"RECORDING THIS RUN ...\")\n",
    "    else:\n",
    "        print(\"NOT RECORDING THIS RUN ...\")\n",
    "\n",
    "    # wrap Flask application with engineio's middleware\n",
    "    app = socketio.Middleware(sio, app)\n",
    "\n",
    "    # deploy as an eventlet WSGI server\n",
    "    eventlet.wsgi.server(eventlet.listen(('', 4567)), app)"
   ]
  },
  {
   "cell_type": "code",
   "execution_count": 7,
   "id": "1eec0493-bbdb-49ec-9050-e0e071e9b949",
   "metadata": {},
   "outputs": [],
   "source": []
  },
  {
   "cell_type": "code",
   "execution_count": 4,
   "id": "c4e4f528-f1eb-46a5-9002-9423c45bc19d",
   "metadata": {},
   "outputs": [
    {
     "name": "stdout",
     "output_type": "stream",
     "text": [
      "Collecting utils\n",
      "  Downloading utils-1.0.1-py2.py3-none-any.whl (21 kB)\n",
      "Installing collected packages: utils\n",
      "Successfully installed utils-1.0.1\n"
     ]
    }
   ],
   "source": [
    "!pip install utils"
   ]
  },
  {
   "cell_type": "code",
   "execution_count": 3,
   "id": "f91962a9-dce9-4f96-8add-5fd871d32a6e",
   "metadata": {},
   "outputs": [
    {
     "name": "stdout",
     "output_type": "stream",
     "text": [
      "Collecting socketio\n",
      "  Downloading socketio-0.2.1.tar.gz (6.1 kB)\n",
      "Collecting setuptools==3.3\n",
      "  Downloading setuptools-3.3-py2.py3-none-any.whl (545 kB)\n",
      "Collecting netifaces==0.10.6\n",
      "  Downloading netifaces-0.10.6.tar.gz (25 kB)\n",
      "Building wheels for collected packages: socketio, netifaces\n"
     ]
    },
    {
     "name": "stderr",
     "output_type": "stream",
     "text": [
      "ERROR: pip's dependency resolver does not currently take into account all the packages that are installed. This behaviour is the source of the following dependency conflicts.\n",
      "tensorboard 2.5.0 requires setuptools>=41.0.0, but you have setuptools 3.3 which is incompatible.\n",
      "ipython 7.25.0 requires setuptools>=18.5, but you have setuptools 3.3 which is incompatible.\n",
      "google-auth 1.30.1 requires setuptools>=40.3.0, but you have setuptools 3.3 which is incompatible.\n"
     ]
    },
    {
     "name": "stdout",
     "output_type": "stream",
     "text": [
      "  Building wheel for socketio (setup.py): started\n",
      "  Building wheel for socketio (setup.py): finished with status 'done'\n",
      "  Created wheel for socketio: filename=socketio-0.2.1-py3-none-any.whl size=7695 sha256=859433efcc2bebe16b43a514b4daf594207f7068bc9c15f0721e67ecc9783cb8\n",
      "  Stored in directory: c:\\users\\omar saad\\appdata\\local\\pip\\cache\\wheels\\8c\\49\\6a\\df1137711e2f7c4e3536194206c54e24fb63fee6cc7fea3a5e\n",
      "  Building wheel for netifaces (setup.py): started\n",
      "  Building wheel for netifaces (setup.py): finished with status 'done'\n",
      "  Created wheel for netifaces: filename=netifaces-0.10.6-cp38-cp38-win_amd64.whl size=16016 sha256=4bc59b739ee226efd7280b3c97d3d37d69c426c3b9a352301108947f70352a8b\n",
      "  Stored in directory: c:\\users\\omar saad\\appdata\\local\\pip\\cache\\wheels\\7d\\a6\\36\\ffb04a8d4a4a600af61dde11efa0897ea8f006290ce84b6e1d\n",
      "Successfully built socketio netifaces\n",
      "Installing collected packages: setuptools, netifaces, socketio\n",
      "  Attempting uninstall: setuptools\n",
      "    Found existing installation: setuptools 52.0.0.post20210125\n",
      "    Uninstalling setuptools-52.0.0.post20210125:\n",
      "      Successfully uninstalled setuptools-52.0.0.post20210125\n",
      "Successfully installed netifaces-0.10.6 setuptools-3.3 socketio-0.2.1\n"
     ]
    }
   ],
   "source": [
    "!pip install socketio"
   ]
  },
  {
   "cell_type": "code",
   "execution_count": null,
   "id": "93d4c78a-3f9c-48b6-a640-f228be564ecd",
   "metadata": {},
   "outputs": [],
   "source": []
  }
 ],
 "metadata": {
  "kernelspec": {
   "display_name": "Python 3 (ipykernel)",
   "language": "python",
   "name": "python3"
  },
  "language_info": {
   "codemirror_mode": {
    "name": "ipython",
    "version": 3
   },
   "file_extension": ".py",
   "mimetype": "text/x-python",
   "name": "python",
   "nbconvert_exporter": "python",
   "pygments_lexer": "ipython3",
   "version": "3.8.0"
  }
 },
 "nbformat": 4,
 "nbformat_minor": 5
}
